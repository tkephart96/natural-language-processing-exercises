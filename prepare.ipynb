{
 "cells": [
  {
   "cell_type": "code",
   "execution_count": 1,
   "metadata": {},
   "outputs": [],
   "source": [
    "# imports\n",
    "import numpy as np\n",
    "import pandas as pd\n",
    "# words.lower()\n",
    "import unicodedata # unicodedata.normalize('NFKD',words).encode('ascii','ignore').decode('utf-8')\n",
    "import re # re.sub(r'[^a-z0-9\\'\\s]','',words)\n",
    "import nltk \n",
    "# nltk.tokenize.ToktokTokenizer() # .tokenize(words,return_str=True)\n",
    "# nltk.porter.PorterStemmer() # ' '.join([.stem(word) for word in words.split()])\n",
    "# nltk.download('all') # nltk.stem.WordNetLemmatizer() # ' '.join([.lemmatize(word) for word in words.split()])\n",
    "from nltk.corpus import stopwords # nltk.download('stopwords')\n",
    "# ' '.join([word for word in words.split() if word not in list(set(stopwords.words('english') - set(keep_list)))])\n",
    "\n",
    "# local\n",
    "import acquire as a"
   ]
  },
  {
   "cell_type": "code",
   "execution_count": 2,
   "metadata": {},
   "outputs": [],
   "source": [
    "# nltk.download('all')\n",
    "# nltk.download('stopwords')"
   ]
  },
  {
   "attachments": {},
   "cell_type": "markdown",
   "metadata": {},
   "source": [
    "# Exercises"
   ]
  },
  {
   "cell_type": "code",
   "execution_count": 3,
   "metadata": {},
   "outputs": [],
   "source": [
    "pd.set_option('display.max_colwidth',None)"
   ]
  },
  {
   "cell_type": "code",
   "execution_count": 4,
   "metadata": {},
   "outputs": [
    {
     "data": {
      "text/html": [
       "<div>\n",
       "<style scoped>\n",
       "    .dataframe tbody tr th:only-of-type {\n",
       "        vertical-align: middle;\n",
       "    }\n",
       "\n",
       "    .dataframe tbody tr th {\n",
       "        vertical-align: top;\n",
       "    }\n",
       "\n",
       "    .dataframe thead th {\n",
       "        text-align: right;\n",
       "    }\n",
       "</style>\n",
       "<table border=\"1\" class=\"dataframe\">\n",
       "  <thead>\n",
       "    <tr style=\"text-align: right;\">\n",
       "      <th></th>\n",
       "      <th>title</th>\n",
       "      <th>content</th>\n",
       "    </tr>\n",
       "  </thead>\n",
       "  <tbody>\n",
       "    <tr>\n",
       "      <th>0</th>\n",
       "      <td>Spotlight on APIDA Voices: Celebrating Heritage and Inspiring Change ft. Arbeena Thapa</td>\n",
       "      <td>\\nMay is traditionally known as Asian American and Pacific Islander (AAPI) Heritage Month. This month we celebrate the history and contributions made possible by our AAPI friends, family, and community. We also examine our level of support and seek opportunities to better understand the AAPI community.\\n\\nIn an effort to address real concerns and experiences, we sat down with Arbeena Thapa, one of Codeup’s Financial Aid and Enrollment Managers.\\nArbeena identifies as Nepali American and Desi. Arbeena’s parents immigrated to Texas in 1988 for better employment and educational opportunities. Arbeena’s older sister was five when they made the move to the US. Arbeena was born later, becoming the first in her family to be a US citizen.\\nAt Codeup we take our efforts at inclusivity very seriously. After speaking with Arbeena, we were taught that the term AAPI excludes Desi-American individuals. Hence, we will now use the term Asian Pacific Islander Desi American (APIDA).\\nHere is how the rest of our conversation with Arbeena went!\\nHow do you celebrate or connect with your heritage and cultural traditions?\\n“I celebrate Nepal’s version of Christmas or Dashain. This is a nine-day celebration also known as Dussehra. I grew up as Hindu and I identify as Hindu, this is a very large part of my heritage. “\\n“Other ways I connect with my culture include sharing food! Momos are South Asian Dumplings and they’re my favorite to make and share.”\\n“On my Asian American side, I am an advocate of immigrant justice and erasure within APIDA social or political movements. I participate in events to embrace my identity such as immigrant justice advocacy because I come from a mixed-status family. I’ve always been in a community with undocumented Asian immigrants. .”\\nWhat are some of the challenges you have faced as an APIDA individual, personally or professionally?\\n“I often struggle with being gendered as compliant or a pushover. Professionally, I am often stereotyped as meek, so I’ve been overlooked for leadership roles. We are seen as perpetually foreign; people tend to other us in that way, yet put us on a pedestal for what a model minority looks like. This has made me hesitant to share my heritage in the past because these assumptions get mapped onto me. ”\\nCan you describe some common barriers of entry that APIDA individuals, specifically women may face when trying to enter or advance in the workplace?\\n“Being overlooked for leadership. In the past, I have not been viewed as a leader. People sometimes have preconceived stereotypes of Asian women not being able to be bold, or being vocal can be mistaken for being too emotional. “\\nHow do you believe microaggressions impact APIDA individuals in the workplace? Can you provide examples of such microaggressions?\\n“Erasure is big. To me, only saying ‘Merry Christmas’ isn’t inclusive to other religions. People are often resistant to saying ‘Happy Holidays,’ but saying Merry Christmas excludes, and does not appreciate my heritage. “\\n“Often microaggressions are not micro at all. They typically are not aggressive racialized violence, but the term ‘micro’ minimizes impact.”\\n“Some that I’ve heard are ‘What kind of Asian are you?’ or ‘Where are you from?’ This automatically makes me the ‘other’ and not seen as American. Even within the APIDA community, South Asians are overlooked as “Asian”.”\\nHow important is representation, specifically APIDA representation, in organizational leadership positions?\\n“I want to say that it is important to have someone who looks like you in leadership roles, and it is, but those leaders may not share the same beliefs as you. Certain privileges such as wealth, resources, or lack of interaction with lower-socioeconomic-status Asian Americans may cause a difference in community politics. I do not think the bamboo ceiling is acceptable, but the company you work for plays a big part in your politics and belief alignment.”\\nHow do you feel about code-switching, and have you ever felt it necessary to code-switch?\\n“I like sharing South Asian terms or connecting with others that have similar heritage and culture. A workplace that is welcoming to going into this sort of breakout is refreshing and makes space for us. However, having to code-switch could also mean a workplace that is not conducive and welcoming of other cultures. “\\nFinally, in your opinion, what long-term strategies can create lasting change in the workplace and ensure support, equality, and inclusion for APIDA individuals?\\n“Prior to a career in financial aid, I did a lot of research related to the post-9/11 immigration of the South Asian diaspora. This background made me heavily rely on grassroots organizing. Hire the people that want to innovate, hire the changemakers, hire the button-pushers. Reduce reliance on whiteness as change. This will become natural for the organization and become organizational change. Change comes from us on the ground.”\\nA huge thank you to Arbeena Thapa for sharing her experiences, and being vulnerable with us. Your words were inspiring and the opportunity to understand your perspective more has been valuable. We hope we can become better support for the APIDA community as we learn and grow on our journey of cultivating inclusive growth.\\n</td>\n",
       "    </tr>\n",
       "  </tbody>\n",
       "</table>\n",
       "</div>"
      ],
      "text/plain": [
       "                                                                                    title  \\\n",
       "0  Spotlight on APIDA Voices: Celebrating Heritage and Inspiring Change ft. Arbeena Thapa   \n",
       "\n",
       "                                                                                                                                                                                                                                                                                                                                                                                                                                                                                                                                                                                                                                                                                                                                                                                                                                                                                                                                                                                                                                                                                                                                                                                                                                                                                                                                                                                                                                                                                                                                                                                                                                                                                                                                                                                                                                                                                                                                                                                                                                                                                                                                                                                                                                                                                                                                                                                                                                                                                                                                                                                                                                                                                                                                                                                                                                                                                                                                                                                                                                                                                                                                                                                                                                                                                                                                                                                                                                                                                                                                                                                                                                                                                                                                                                                                                                                                                                                                                                                                                                                                                                                                                                                                                                                                                                                                                                                                                                                                                                                                                                                                                                                                                                                                                                                                                                                                                                                                                                                                                                                                                                                                                                                                                                                                                                                                                                                                                                                                                            content  \n",
       "0  \\nMay is traditionally known as Asian American and Pacific Islander (AAPI) Heritage Month. This month we celebrate the history and contributions made possible by our AAPI friends, family, and community. We also examine our level of support and seek opportunities to better understand the AAPI community.\\n\\nIn an effort to address real concerns and experiences, we sat down with Arbeena Thapa, one of Codeup’s Financial Aid and Enrollment Managers.\\nArbeena identifies as Nepali American and Desi. Arbeena’s parents immigrated to Texas in 1988 for better employment and educational opportunities. Arbeena’s older sister was five when they made the move to the US. Arbeena was born later, becoming the first in her family to be a US citizen.\\nAt Codeup we take our efforts at inclusivity very seriously. After speaking with Arbeena, we were taught that the term AAPI excludes Desi-American individuals. Hence, we will now use the term Asian Pacific Islander Desi American (APIDA).\\nHere is how the rest of our conversation with Arbeena went!\\nHow do you celebrate or connect with your heritage and cultural traditions?\\n“I celebrate Nepal’s version of Christmas or Dashain. This is a nine-day celebration also known as Dussehra. I grew up as Hindu and I identify as Hindu, this is a very large part of my heritage. “\\n“Other ways I connect with my culture include sharing food! Momos are South Asian Dumplings and they’re my favorite to make and share.”\\n“On my Asian American side, I am an advocate of immigrant justice and erasure within APIDA social or political movements. I participate in events to embrace my identity such as immigrant justice advocacy because I come from a mixed-status family. I’ve always been in a community with undocumented Asian immigrants. .”\\nWhat are some of the challenges you have faced as an APIDA individual, personally or professionally?\\n“I often struggle with being gendered as compliant or a pushover. Professionally, I am often stereotyped as meek, so I’ve been overlooked for leadership roles. We are seen as perpetually foreign; people tend to other us in that way, yet put us on a pedestal for what a model minority looks like. This has made me hesitant to share my heritage in the past because these assumptions get mapped onto me. ”\\nCan you describe some common barriers of entry that APIDA individuals, specifically women may face when trying to enter or advance in the workplace?\\n“Being overlooked for leadership. In the past, I have not been viewed as a leader. People sometimes have preconceived stereotypes of Asian women not being able to be bold, or being vocal can be mistaken for being too emotional. “\\nHow do you believe microaggressions impact APIDA individuals in the workplace? Can you provide examples of such microaggressions?\\n“Erasure is big. To me, only saying ‘Merry Christmas’ isn’t inclusive to other religions. People are often resistant to saying ‘Happy Holidays,’ but saying Merry Christmas excludes, and does not appreciate my heritage. “\\n“Often microaggressions are not micro at all. They typically are not aggressive racialized violence, but the term ‘micro’ minimizes impact.”\\n“Some that I’ve heard are ‘What kind of Asian are you?’ or ‘Where are you from?’ This automatically makes me the ‘other’ and not seen as American. Even within the APIDA community, South Asians are overlooked as “Asian”.”\\nHow important is representation, specifically APIDA representation, in organizational leadership positions?\\n“I want to say that it is important to have someone who looks like you in leadership roles, and it is, but those leaders may not share the same beliefs as you. Certain privileges such as wealth, resources, or lack of interaction with lower-socioeconomic-status Asian Americans may cause a difference in community politics. I do not think the bamboo ceiling is acceptable, but the company you work for plays a big part in your politics and belief alignment.”\\nHow do you feel about code-switching, and have you ever felt it necessary to code-switch?\\n“I like sharing South Asian terms or connecting with others that have similar heritage and culture. A workplace that is welcoming to going into this sort of breakout is refreshing and makes space for us. However, having to code-switch could also mean a workplace that is not conducive and welcoming of other cultures. “\\nFinally, in your opinion, what long-term strategies can create lasting change in the workplace and ensure support, equality, and inclusion for APIDA individuals?\\n“Prior to a career in financial aid, I did a lot of research related to the post-9/11 immigration of the South Asian diaspora. This background made me heavily rely on grassroots organizing. Hire the people that want to innovate, hire the changemakers, hire the button-pushers. Reduce reliance on whiteness as change. This will become natural for the organization and become organizational change. Change comes from us on the ground.”\\nA huge thank you to Arbeena Thapa for sharing her experiences, and being vulnerable with us. Your words were inspiring and the opportunity to understand your perspective more has been valuable. We hope we can become better support for the APIDA community as we learn and grow on our journey of cultivating inclusive growth.\\n  "
      ]
     },
     "execution_count": 4,
     "metadata": {},
     "output_type": "execute_result"
    }
   ],
   "source": [
    "blogs = a.get_all_blog_articles()\n",
    "blogs.head(1)"
   ]
  },
  {
   "cell_type": "code",
   "execution_count": 5,
   "metadata": {},
   "outputs": [
    {
     "data": {
      "text/html": [
       "<div>\n",
       "<style scoped>\n",
       "    .dataframe tbody tr th:only-of-type {\n",
       "        vertical-align: middle;\n",
       "    }\n",
       "\n",
       "    .dataframe tbody tr th {\n",
       "        vertical-align: top;\n",
       "    }\n",
       "\n",
       "    .dataframe thead th {\n",
       "        text-align: right;\n",
       "    }\n",
       "</style>\n",
       "<table border=\"1\" class=\"dataframe\">\n",
       "  <thead>\n",
       "    <tr style=\"text-align: right;\">\n",
       "      <th></th>\n",
       "      <th>title</th>\n",
       "      <th>content</th>\n",
       "      <th>category</th>\n",
       "    </tr>\n",
       "  </thead>\n",
       "  <tbody>\n",
       "    <tr>\n",
       "      <th>0</th>\n",
       "      <td>Apple could force 111-year-old Swiss firm to change its apple logo</td>\n",
       "      <td>Fruit Union Suisse, a 111-year-old Swiss company, is worried it might have to change its logo because Apple is trying to gain intellectual property rights over depictions of apples. \"It's not like they're trying to protect their bitten apple...Their objective...is really to own rights to an actual apple, which...should be free for everyone to use,\" its director Jimmy Mariéthoz said.</td>\n",
       "      <td>Business</td>\n",
       "    </tr>\n",
       "  </tbody>\n",
       "</table>\n",
       "</div>"
      ],
      "text/plain": [
       "                                                                title  \\\n",
       "0  Apple could force 111-year-old Swiss firm to change its apple logo   \n",
       "\n",
       "                                                                                                                                                                                                                                                                                                                                                                                             content  \\\n",
       "0  Fruit Union Suisse, a 111-year-old Swiss company, is worried it might have to change its logo because Apple is trying to gain intellectual property rights over depictions of apples. \"It's not like they're trying to protect their bitten apple...Their objective...is really to own rights to an actual apple, which...should be free for everyone to use,\" its director Jimmy Mariéthoz said.   \n",
       "\n",
       "   category  \n",
       "0  Business  "
      ]
     },
     "execution_count": 5,
     "metadata": {},
     "output_type": "execute_result"
    }
   ],
   "source": [
    "shorts = a.get_shorts()\n",
    "shorts.head(1)"
   ]
  },
  {
   "attachments": {},
   "cell_type": "markdown",
   "metadata": {},
   "source": [
    "## 1. Define a function named basic_clean. It should take in a string and apply some basic text cleaning to it:\n",
    "\n",
    "- Lowercase everything\n",
    "- Normalize unicode characters\n",
    "- Replace anything that is not a letter, number, whitespace or a single quote.\n"
   ]
  },
  {
   "cell_type": "code",
   "execution_count": 6,
   "metadata": {},
   "outputs": [
    {
     "data": {
      "text/plain": [
       "'\\nmay is traditionally known as asian american and pacific islander (aapi) heritage month. this month we celebrate the history and contributions made possible by our aapi friends, family, and community. we also examine our level of support and seek opportunities to better understand the aapi community.\\n\\nin an effort to address real concerns and experiences, we sat down with arbeena thapa, one of codeup’s financial aid and enrollment managers.\\narbeena identifies as nepali american and desi. arbeena’s parents immigrated to texas in 1988 for better employment and educational opportunities. arbeena’s older sister was five when they made the move to the us. arbeena was born later, becoming the first in her family to be a us citizen.\\nat codeup we take our efforts at inclusivity very seriously. after speaking with arbeena, we were taught that the term aapi excludes desi-american individuals. hence, we will now use the term asian pacific islander desi american (apida).\\nhere is how the rest of our conversation with arbeena went!\\nhow do you celebrate or connect with your heritage and cultural traditions?\\n“i celebrate nepal’s version of christmas or dashain. this is a nine-day celebration also known as dussehra. i grew up as hindu and i identify as hindu, this is a very large part of my heritage. “\\n“other ways i connect with my culture include sharing food! momos are south asian dumplings and they’re my favorite to make and share.”\\n“on my asian american side, i am an advocate of immigrant justice and erasure within apida social or political movements. i participate in events to embrace my identity such as immigrant justice advocacy because i come from a mixed-status family. i’ve always been in a community with undocumented asian immigrants. .”\\nwhat are some of the challenges you have faced as an apida individual, personally or professionally?\\n“i often struggle with being gendered as compliant or a pushover. professionally, i am often stereotyped as meek, so i’ve been overlooked for leadership roles. we are seen as perpetually foreign; people tend to other us in that way, yet put us on a pedestal for what a model minority looks like. this has made me hesitant to share my heritage in the past because these assumptions get mapped onto me. ”\\ncan you describe some common barriers of entry that apida individuals, specifically women may face when trying to enter or advance in the workplace?\\n“being overlooked for leadership. in the past, i have not been viewed as a leader. people sometimes have preconceived stereotypes of asian women not being able to be bold, or being vocal can be mistaken for being too emotional. “\\nhow do you believe microaggressions impact apida individuals in the workplace? can you provide examples of such microaggressions?\\n“erasure is big. to me, only saying ‘merry christmas’ isn’t inclusive to other religions. people are often resistant to saying ‘happy holidays,’ but saying merry christmas excludes, and does not appreciate my heritage. “\\n“often microaggressions are not micro at all. they typically are not aggressive racialized violence, but the term ‘micro’ minimizes impact.”\\n“some that i’ve heard are ‘what kind of asian are you?’ or ‘where are you from?’ this automatically makes me the ‘other’ and not seen as american. even within the apida community, south asians are overlooked as “asian”.”\\nhow important is representation, specifically apida representation, in organizational leadership positions?\\n“i want to say that it is important to have someone who looks like you in leadership roles, and it is, but those leaders may not share the same beliefs as you. certain privileges such as wealth, resources, or lack of interaction with lower-socioeconomic-status asian americans may cause a difference in community politics. i do not think the bamboo ceiling is acceptable, but the company you work for plays a big part in your politics and belief alignment.”\\nhow do you feel about code-switching, and have you ever felt it necessary to code-switch?\\n“i like sharing south asian terms or connecting with others that have similar heritage and culture. a workplace that is welcoming to going into this sort of breakout is refreshing and makes space for us. however, having to code-switch could also mean a workplace that is not conducive and welcoming of other cultures. “\\nfinally, in your opinion, what long-term strategies can create lasting change in the workplace and ensure support, equality, and inclusion for apida individuals?\\n“prior to a career in financial aid, i did a lot of research related to the post-9/11 immigration of the south asian diaspora. this background made me heavily rely on grassroots organizing. hire the people that want to innovate, hire the changemakers, hire the button-pushers. reduce reliance on whiteness as change. this will become natural for the organization and become organizational change. change comes from us on the ground.”\\na huge thank you to arbeena thapa for sharing her experiences, and being vulnerable with us. your words were inspiring and the opportunity to understand your perspective more has been valuable. we hope we can become better support for the apida community as we learn and grow on our journey of cultivating inclusive growth.\\n'"
      ]
     },
     "execution_count": 6,
     "metadata": {},
     "output_type": "execute_result"
    }
   ],
   "source": [
    "# words.lower()\n",
    "words = blogs.iloc[0][1]\n",
    "words_low = words.lower()\n",
    "words_low"
   ]
  },
  {
   "cell_type": "code",
   "execution_count": 7,
   "metadata": {},
   "outputs": [
    {
     "data": {
      "text/plain": [
       "'\\nmay is traditionally known as asian american and pacific islander (aapi) heritage month. this month we celebrate the history and contributions made possible by our aapi friends, family, and community. we also examine our level of support and seek opportunities to better understand the aapi community.\\n\\nin an effort to address real concerns and experiences, we sat down with arbeena thapa, one of codeups financial aid and enrollment managers.\\narbeena identifies as nepali american and desi. arbeenas parents immigrated to texas in 1988 for better employment and educational opportunities. arbeenas older sister was five when they made the move to the us. arbeena was born later, becoming the first in her family to be a us citizen.\\nat codeup we take our efforts at inclusivity very seriously. after speaking with arbeena, we were taught that the term aapi excludes desi-american individuals. hence, we will now use the term asian pacific islander desi american (apida).\\nhere is how the rest of our conversation with arbeena went!\\nhow do you celebrate or connect with your heritage and cultural traditions?\\ni celebrate nepals version of christmas or dashain. this is a nine-day celebration also known as dussehra. i grew up as hindu and i identify as hindu, this is a very large part of my heritage. \\nother ways i connect with my culture include sharing food! momos are south asian dumplings and theyre my favorite to make and share.\\non my asian american side, i am an advocate of immigrant justice and erasure within apida social or political movements. i participate in events to embrace my identity such as immigrant justice advocacy because i come from a mixed-status family. ive always been in a community with undocumented asian immigrants. .\\nwhat are some of the challenges you have faced as an apida individual, personally or professionally?\\ni often struggle with being gendered as compliant or a pushover. professionally, i am often stereotyped as meek, so ive been overlooked for leadership roles. we are seen as perpetually foreign; people tend to other us in that way, yet put us on a pedestal for what a model minority looks like. this has made me hesitant to share my heritage in the past because these assumptions get mapped onto me. \\ncan you describe some common barriers of entry that apida individuals, specifically women may face when trying to enter or advance in the workplace?\\nbeing overlooked for leadership. in the past, i have not been viewed as a leader. people sometimes have preconceived stereotypes of asian women not being able to be bold, or being vocal can be mistaken for being too emotional. \\nhow do you believe microaggressions impact apida individuals in the workplace? can you provide examples of such microaggressions?\\nerasure is big. to me, only saying merry christmas isnt inclusive to other religions. people are often resistant to saying happy holidays, but saying merry christmas excludes, and does not appreciate my heritage. \\noften microaggressions are not micro at all. they typically are not aggressive racialized violence, but the term micro minimizes impact.\\nsome that ive heard are what kind of asian are you? or where are you from? this automatically makes me the other and not seen as american. even within the apida community, south asians are overlooked as asian.\\nhow important is representation, specifically apida representation, in organizational leadership positions?\\ni want to say that it is important to have someone who looks like you in leadership roles, and it is, but those leaders may not share the same beliefs as you. certain privileges such as wealth, resources, or lack of interaction with lower-socioeconomic-status asian americans may cause a difference in community politics. i do not think the bamboo ceiling is acceptable, but the company you work for plays a big part in your politics and belief alignment.\\nhow do you feel about code-switching, and have you ever felt it necessary to code-switch?\\ni like sharing south asian terms or connecting with others that have similar heritage and culture. a workplace that is welcoming to going into this sort of breakout is refreshing and makes space for us. however, having to code-switch could also mean a workplace that is not conducive and welcoming of other cultures. \\nfinally, in your opinion, what long-term strategies can create lasting change in the workplace and ensure support, equality, and inclusion for apida individuals?\\nprior to a career in financial aid, i did a lot of research related to the post-9/11 immigration of the south asian diaspora. this background made me heavily rely on grassroots organizing. hire the people that want to innovate, hire the changemakers, hire the button-pushers. reduce reliance on whiteness as change. this will become natural for the organization and become organizational change. change comes from us on the ground.\\na huge thank you to arbeena thapa for sharing her experiences, and being vulnerable with us. your words were inspiring and the opportunity to understand your perspective more has been valuable. we hope we can become better support for the apida community as we learn and grow on our journey of cultivating inclusive growth.\\n'"
      ]
     },
     "execution_count": 7,
     "metadata": {},
     "output_type": "execute_result"
    }
   ],
   "source": [
    "# unicodedata.normalize('NFKD',words).encode('ascii','ignore').decode('utf-8')\n",
    "words_uni = unicodedata.normalize('NFKD',words_low).encode('ascii','ignore').decode('utf-8')\n",
    "words_uni"
   ]
  },
  {
   "cell_type": "code",
   "execution_count": 8,
   "metadata": {},
   "outputs": [
    {
     "data": {
      "text/plain": [
       "'\\nmay is traditionally known as asian american and pacific islander aapi heritage month  this month we celebrate the history and contributions made possible by our aapi friends family and community  we also examine our level of support and seek opportunities to better understand the aapi community \\n\\nin an effort to address real concerns and experiences we sat down with arbeena thapa one of codeups financial aid and enrollment managers \\narbeena identifies as nepali american and desi  arbeenas parents immigrated to texas in 1988 for better employment and educational opportunities  arbeenas older sister was five when they made the move to the us  arbeena was born later becoming the first in her family to be a us citizen \\nat codeup we take our efforts at inclusivity very seriously  after speaking with arbeena we were taught that the term aapi excludes desi american individuals  hence we will now use the term asian pacific islander desi american apida \\nhere is how the rest of our conversation with arbeena went\\nhow do you celebrate or connect with your heritage and cultural traditions\\ni celebrate nepals version of christmas or dashain  this is a nine day celebration also known as dussehra  i grew up as hindu and i identify as hindu this is a very large part of my heritage  \\nother ways i connect with my culture include sharing food momos are south asian dumplings and theyre my favorite to make and share \\non my asian american side i am an advocate of immigrant justice and erasure within apida social or political movements  i participate in events to embrace my identity such as immigrant justice advocacy because i come from a mixed status family  ive always been in a community with undocumented asian immigrants   \\nwhat are some of the challenges you have faced as an apida individual personally or professionally\\ni often struggle with being gendered as compliant or a pushover  professionally i am often stereotyped as meek so ive been overlooked for leadership roles  we are seen as perpetually foreign people tend to other us in that way yet put us on a pedestal for what a model minority looks like  this has made me hesitant to share my heritage in the past because these assumptions get mapped onto me  \\ncan you describe some common barriers of entry that apida individuals specifically women may face when trying to enter or advance in the workplace\\nbeing overlooked for leadership  in the past i have not been viewed as a leader  people sometimes have preconceived stereotypes of asian women not being able to be bold or being vocal can be mistaken for being too emotional  \\nhow do you believe microaggressions impact apida individuals in the workplace can you provide examples of such microaggressions\\nerasure is big  to me only saying merry christmas isnt inclusive to other religions  people are often resistant to saying happy holidays but saying merry christmas excludes and does not appreciate my heritage  \\noften microaggressions are not micro at all  they typically are not aggressive racialized violence but the term micro minimizes impact \\nsome that ive heard are what kind of asian are you or where are you from this automatically makes me the other and not seen as american  even within the apida community south asians are overlooked as asian \\nhow important is representation specifically apida representation in organizational leadership positions\\ni want to say that it is important to have someone who looks like you in leadership roles and it is but those leaders may not share the same beliefs as you  certain privileges such as wealth resources or lack of interaction with lower socioeconomic status asian americans may cause a difference in community politics  i do not think the bamboo ceiling is acceptable but the company you work for plays a big part in your politics and belief alignment \\nhow do you feel about code switching and have you ever felt it necessary to code switch\\ni like sharing south asian terms or connecting with others that have similar heritage and culture  a workplace that is welcoming to going into this sort of breakout is refreshing and makes space for us  however having to code switch could also mean a workplace that is not conducive and welcoming of other cultures  \\nfinally in your opinion what long term strategies can create lasting change in the workplace and ensure support equality and inclusion for apida individuals\\nprior to a career in financial aid i did a lot of research related to the post 9 11 immigration of the south asian diaspora  this background made me heavily rely on grassroots organizing  hire the people that want to innovate hire the changemakers hire the button pushers  reduce reliance on whiteness as change  this will become natural for the organization and become organizational change  change comes from us on the ground \\na huge thank you to arbeena thapa for sharing her experiences and being vulnerable with us  your words were inspiring and the opportunity to understand your perspective more has been valuable  we hope we can become better support for the apida community as we learn and grow on our journey of cultivating inclusive growth \\n'"
      ]
     },
     "execution_count": 8,
     "metadata": {},
     "output_type": "execute_result"
    }
   ],
   "source": [
    "# re.sub(r'[^a-z0-9\\'\\s]','',words)\n",
    "words_re = re.sub(r'[^a-z0-9\\'\\-\\.\\/\\s]','',words_uni)\n",
    "words_re = re.sub(r'[\\-\\.\\/]',' ',words_re)\n",
    "words_re"
   ]
  },
  {
   "cell_type": "code",
   "execution_count": 9,
   "metadata": {},
   "outputs": [],
   "source": [
    "def basic_clean(words):\n",
    "    # lowercase all\n",
    "    words_low = words.lower()\n",
    "    # normalize characters\n",
    "    words_uni = unicodedata.normalize('NFKD',words_low).encode('ascii','ignore').decode('utf-8')\n",
    "    # drop characters like -./,!?\n",
    "    words_re = re.sub(r'[^a-z0-9\\'\\-\\.\\/\\s]','',words_uni)\n",
    "    return re.sub(r'[\\-\\.\\/]',' ',words_re)"
   ]
  },
  {
   "cell_type": "code",
   "execution_count": 10,
   "metadata": {},
   "outputs": [
    {
     "data": {
      "text/plain": [
       "'\\nmay is traditionally known as asian american and pacific islander aapi heritage month  this month we celebrate the history and contributions made possible by our aapi friends family and community  we also examine our level of support and seek opportunities to better understand the aapi community \\n\\nin an effort to address real concerns and experiences we sat down with arbeena thapa one of codeups financial aid and enrollment managers \\narbeena identifies as nepali american and desi  arbeenas parents immigrated to texas in 1988 for better employment and educational opportunities  arbeenas older sister was five when they made the move to the us  arbeena was born later becoming the first in her family to be a us citizen \\nat codeup we take our efforts at inclusivity very seriously  after speaking with arbeena we were taught that the term aapi excludes desi american individuals  hence we will now use the term asian pacific islander desi american apida \\nhere is how the rest of our conversation with arbeena went\\nhow do you celebrate or connect with your heritage and cultural traditions\\ni celebrate nepals version of christmas or dashain  this is a nine day celebration also known as dussehra  i grew up as hindu and i identify as hindu this is a very large part of my heritage  \\nother ways i connect with my culture include sharing food momos are south asian dumplings and theyre my favorite to make and share \\non my asian american side i am an advocate of immigrant justice and erasure within apida social or political movements  i participate in events to embrace my identity such as immigrant justice advocacy because i come from a mixed status family  ive always been in a community with undocumented asian immigrants   \\nwhat are some of the challenges you have faced as an apida individual personally or professionally\\ni often struggle with being gendered as compliant or a pushover  professionally i am often stereotyped as meek so ive been overlooked for leadership roles  we are seen as perpetually foreign people tend to other us in that way yet put us on a pedestal for what a model minority looks like  this has made me hesitant to share my heritage in the past because these assumptions get mapped onto me  \\ncan you describe some common barriers of entry that apida individuals specifically women may face when trying to enter or advance in the workplace\\nbeing overlooked for leadership  in the past i have not been viewed as a leader  people sometimes have preconceived stereotypes of asian women not being able to be bold or being vocal can be mistaken for being too emotional  \\nhow do you believe microaggressions impact apida individuals in the workplace can you provide examples of such microaggressions\\nerasure is big  to me only saying merry christmas isnt inclusive to other religions  people are often resistant to saying happy holidays but saying merry christmas excludes and does not appreciate my heritage  \\noften microaggressions are not micro at all  they typically are not aggressive racialized violence but the term micro minimizes impact \\nsome that ive heard are what kind of asian are you or where are you from this automatically makes me the other and not seen as american  even within the apida community south asians are overlooked as asian \\nhow important is representation specifically apida representation in organizational leadership positions\\ni want to say that it is important to have someone who looks like you in leadership roles and it is but those leaders may not share the same beliefs as you  certain privileges such as wealth resources or lack of interaction with lower socioeconomic status asian americans may cause a difference in community politics  i do not think the bamboo ceiling is acceptable but the company you work for plays a big part in your politics and belief alignment \\nhow do you feel about code switching and have you ever felt it necessary to code switch\\ni like sharing south asian terms or connecting with others that have similar heritage and culture  a workplace that is welcoming to going into this sort of breakout is refreshing and makes space for us  however having to code switch could also mean a workplace that is not conducive and welcoming of other cultures  \\nfinally in your opinion what long term strategies can create lasting change in the workplace and ensure support equality and inclusion for apida individuals\\nprior to a career in financial aid i did a lot of research related to the post 9 11 immigration of the south asian diaspora  this background made me heavily rely on grassroots organizing  hire the people that want to innovate hire the changemakers hire the button pushers  reduce reliance on whiteness as change  this will become natural for the organization and become organizational change  change comes from us on the ground \\na huge thank you to arbeena thapa for sharing her experiences and being vulnerable with us  your words were inspiring and the opportunity to understand your perspective more has been valuable  we hope we can become better support for the apida community as we learn and grow on our journey of cultivating inclusive growth \\n'"
      ]
     },
     "execution_count": 10,
     "metadata": {},
     "output_type": "execute_result"
    }
   ],
   "source": [
    "words_bc = basic_clean(words)\n",
    "words_bc"
   ]
  },
  {
   "attachments": {},
   "cell_type": "markdown",
   "metadata": {},
   "source": [
    "## 2. Define a function named tokenize. It should take in a string and tokenize all the words in the string.\n",
    "\n"
   ]
  },
  {
   "cell_type": "code",
   "execution_count": 11,
   "metadata": {},
   "outputs": [
    {
     "data": {
      "text/plain": [
       "'may is traditionally known as asian american and pacific islander aapi heritage month this month we celebrate the history and contributions made possible by our aapi friends family and community we also examine our level of support and seek opportunities to better understand the aapi community \\n\\nin an effort to address real concerns and experiences we sat down with arbeena thapa one of codeups financial aid and enrollment managers \\narbeena identifies as nepali american and desi arbeenas parents immigrated to texas in 1988 for better employment and educational opportunities arbeenas older sister was five when they made the move to the us arbeena was born later becoming the first in her family to be a us citizen \\nat codeup we take our efforts at inclusivity very seriously after speaking with arbeena we were taught that the term aapi excludes desi american individuals hence we will now use the term asian pacific islander desi american apida \\nhere is how the rest of our conversation with arbeena went\\nhow do you celebrate or connect with your heritage and cultural traditions\\ni celebrate nepals version of christmas or dashain this is a nine day celebration also known as dussehra i grew up as hindu and i identify as hindu this is a very large part of my heritage \\nother ways i connect with my culture include sharing food momos are south asian dumplings and theyre my favorite to make and share \\non my asian american side i am an advocate of immigrant justice and erasure within apida social or political movements i participate in events to embrace my identity such as immigrant justice advocacy because i come from a mixed status family ive always been in a community with undocumented asian immigrants \\nwhat are some of the challenges you have faced as an apida individual personally or professionally\\ni often struggle with being gendered as compliant or a pushover professionally i am often stereotyped as meek so ive been overlooked for leadership roles we are seen as perpetually foreign people tend to other us in that way yet put us on a pedestal for what a model minority looks like this has made me hesitant to share my heritage in the past because these assumptions get mapped onto me \\ncan you describe some common barriers of entry that apida individuals specifically women may face when trying to enter or advance in the workplace\\nbeing overlooked for leadership in the past i have not been viewed as a leader people sometimes have preconceived stereotypes of asian women not being able to be bold or being vocal can be mistaken for being too emotional \\nhow do you believe microaggressions impact apida individuals in the workplace can you provide examples of such microaggressions\\nerasure is big to me only saying merry christmas isnt inclusive to other religions people are often resistant to saying happy holidays but saying merry christmas excludes and does not appreciate my heritage \\noften microaggressions are not micro at all they typically are not aggressive racialized violence but the term micro minimizes impact \\nsome that ive heard are what kind of asian are you or where are you from this automatically makes me the other and not seen as american even within the apida community south asians are overlooked as asian \\nhow important is representation specifically apida representation in organizational leadership positions\\ni want to say that it is important to have someone who looks like you in leadership roles and it is but those leaders may not share the same beliefs as you certain privileges such as wealth resources or lack of interaction with lower socioeconomic status asian americans may cause a difference in community politics i do not think the bamboo ceiling is acceptable but the company you work for plays a big part in your politics and belief alignment \\nhow do you feel about code switching and have you ever felt it necessary to code switch\\ni like sharing south asian terms or connecting with others that have similar heritage and culture a workplace that is welcoming to going into this sort of breakout is refreshing and makes space for us however having to code switch could also mean a workplace that is not conducive and welcoming of other cultures \\nfinally in your opinion what long term strategies can create lasting change in the workplace and ensure support equality and inclusion for apida individuals\\nprior to a career in financial aid i did a lot of research related to the post 9 11 immigration of the south asian diaspora this background made me heavily rely on grassroots organizing hire the people that want to innovate hire the changemakers hire the button pushers reduce reliance on whiteness as change this will become natural for the organization and become organizational change change comes from us on the ground \\na huge thank you to arbeena thapa for sharing her experiences and being vulnerable with us your words were inspiring and the opportunity to understand your perspective more has been valuable we hope we can become better support for the apida community as we learn and grow on our journey of cultivating inclusive growth'"
      ]
     },
     "execution_count": 11,
     "metadata": {},
     "output_type": "execute_result"
    }
   ],
   "source": [
    "# nltk.tokenize.ToktokTokenizer() # .tokenize(words,return_str=True)\n",
    "tok = nltk.tokenize.ToktokTokenizer()\n",
    "words_tok = tok.tokenize(words_bc,return_str=True)\n",
    "words_tok"
   ]
  },
  {
   "cell_type": "code",
   "execution_count": 12,
   "metadata": {},
   "outputs": [],
   "source": [
    "def tokenize(words_bc):\n",
    "    # make tokenizer\n",
    "    tok = nltk.tokenize.ToktokTokenizer()\n",
    "    # tokenize them\n",
    "    return tok.tokenize(words_bc,return_str=True)"
   ]
  },
  {
   "cell_type": "code",
   "execution_count": 13,
   "metadata": {},
   "outputs": [
    {
     "data": {
      "text/plain": [
       "'may is traditionally known as asian american and pacific islander aapi heritage month this month we celebrate the history and contributions made possible by our aapi friends family and community we also examine our level of support and seek opportunities to better understand the aapi community \\n\\nin an effort to address real concerns and experiences we sat down with arbeena thapa one of codeups financial aid and enrollment managers \\narbeena identifies as nepali american and desi arbeenas parents immigrated to texas in 1988 for better employment and educational opportunities arbeenas older sister was five when they made the move to the us arbeena was born later becoming the first in her family to be a us citizen \\nat codeup we take our efforts at inclusivity very seriously after speaking with arbeena we were taught that the term aapi excludes desi american individuals hence we will now use the term asian pacific islander desi american apida \\nhere is how the rest of our conversation with arbeena went\\nhow do you celebrate or connect with your heritage and cultural traditions\\ni celebrate nepals version of christmas or dashain this is a nine day celebration also known as dussehra i grew up as hindu and i identify as hindu this is a very large part of my heritage \\nother ways i connect with my culture include sharing food momos are south asian dumplings and theyre my favorite to make and share \\non my asian american side i am an advocate of immigrant justice and erasure within apida social or political movements i participate in events to embrace my identity such as immigrant justice advocacy because i come from a mixed status family ive always been in a community with undocumented asian immigrants \\nwhat are some of the challenges you have faced as an apida individual personally or professionally\\ni often struggle with being gendered as compliant or a pushover professionally i am often stereotyped as meek so ive been overlooked for leadership roles we are seen as perpetually foreign people tend to other us in that way yet put us on a pedestal for what a model minority looks like this has made me hesitant to share my heritage in the past because these assumptions get mapped onto me \\ncan you describe some common barriers of entry that apida individuals specifically women may face when trying to enter or advance in the workplace\\nbeing overlooked for leadership in the past i have not been viewed as a leader people sometimes have preconceived stereotypes of asian women not being able to be bold or being vocal can be mistaken for being too emotional \\nhow do you believe microaggressions impact apida individuals in the workplace can you provide examples of such microaggressions\\nerasure is big to me only saying merry christmas isnt inclusive to other religions people are often resistant to saying happy holidays but saying merry christmas excludes and does not appreciate my heritage \\noften microaggressions are not micro at all they typically are not aggressive racialized violence but the term micro minimizes impact \\nsome that ive heard are what kind of asian are you or where are you from this automatically makes me the other and not seen as american even within the apida community south asians are overlooked as asian \\nhow important is representation specifically apida representation in organizational leadership positions\\ni want to say that it is important to have someone who looks like you in leadership roles and it is but those leaders may not share the same beliefs as you certain privileges such as wealth resources or lack of interaction with lower socioeconomic status asian americans may cause a difference in community politics i do not think the bamboo ceiling is acceptable but the company you work for plays a big part in your politics and belief alignment \\nhow do you feel about code switching and have you ever felt it necessary to code switch\\ni like sharing south asian terms or connecting with others that have similar heritage and culture a workplace that is welcoming to going into this sort of breakout is refreshing and makes space for us however having to code switch could also mean a workplace that is not conducive and welcoming of other cultures \\nfinally in your opinion what long term strategies can create lasting change in the workplace and ensure support equality and inclusion for apida individuals\\nprior to a career in financial aid i did a lot of research related to the post 9 11 immigration of the south asian diaspora this background made me heavily rely on grassroots organizing hire the people that want to innovate hire the changemakers hire the button pushers reduce reliance on whiteness as change this will become natural for the organization and become organizational change change comes from us on the ground \\na huge thank you to arbeena thapa for sharing her experiences and being vulnerable with us your words were inspiring and the opportunity to understand your perspective more has been valuable we hope we can become better support for the apida community as we learn and grow on our journey of cultivating inclusive growth'"
      ]
     },
     "execution_count": 13,
     "metadata": {},
     "output_type": "execute_result"
    }
   ],
   "source": [
    "words_tok = tokenize(words_bc)\n",
    "words_tok"
   ]
  },
  {
   "attachments": {},
   "cell_type": "markdown",
   "metadata": {},
   "source": [
    "## 3. Define a function named stem. It should accept some text and return the text after applying stemming to all the words.\n",
    "\n"
   ]
  },
  {
   "cell_type": "code",
   "execution_count": 14,
   "metadata": {},
   "outputs": [
    {
     "data": {
      "text/plain": [
       "'may is tradit known as asian american and pacif island aapi heritag month thi month we celebr the histori and contribut made possibl by our aapi friend famili and commun we also examin our level of support and seek opportun to better understand the aapi commun in an effort to address real concern and experi we sat down with arbeena thapa one of codeup financi aid and enrol manag arbeena identifi as nepali american and desi arbeena parent immigr to texa in 1988 for better employ and educ opportun arbeena older sister wa five when they made the move to the us arbeena wa born later becom the first in her famili to be a us citizen at codeup we take our effort at inclus veri serious after speak with arbeena we were taught that the term aapi exclud desi american individu henc we will now use the term asian pacif island desi american apida here is how the rest of our convers with arbeena went how do you celebr or connect with your heritag and cultur tradit i celebr nepal version of christma or dashain thi is a nine day celebr also known as dussehra i grew up as hindu and i identifi as hindu thi is a veri larg part of my heritag other way i connect with my cultur includ share food momo are south asian dumpl and theyr my favorit to make and share on my asian american side i am an advoc of immigr justic and erasur within apida social or polit movement i particip in event to embrac my ident such as immigr justic advocaci becaus i come from a mix statu famili ive alway been in a commun with undocu asian immigr what are some of the challeng you have face as an apida individu person or profession i often struggl with be gender as compliant or a pushov profession i am often stereotyp as meek so ive been overlook for leadership role we are seen as perpetu foreign peopl tend to other us in that way yet put us on a pedest for what a model minor look like thi ha made me hesit to share my heritag in the past becaus these assumpt get map onto me can you describ some common barrier of entri that apida individu specif women may face when tri to enter or advanc in the workplac be overlook for leadership in the past i have not been view as a leader peopl sometim have preconceiv stereotyp of asian women not be abl to be bold or be vocal can be mistaken for be too emot how do you believ microaggress impact apida individu in the workplac can you provid exampl of such microaggress erasur is big to me onli say merri christma isnt inclus to other religion peopl are often resist to say happi holiday but say merri christma exclud and doe not appreci my heritag often microaggress are not micro at all they typic are not aggress racial violenc but the term micro minim impact some that ive heard are what kind of asian are you or where are you from thi automat make me the other and not seen as american even within the apida commun south asian are overlook as asian how import is represent specif apida represent in organiz leadership posit i want to say that it is import to have someon who look like you in leadership role and it is but those leader may not share the same belief as you certain privileg such as wealth resourc or lack of interact with lower socioeconom statu asian american may caus a differ in commun polit i do not think the bamboo ceil is accept but the compani you work for play a big part in your polit and belief align how do you feel about code switch and have you ever felt it necessari to code switch i like share south asian term or connect with other that have similar heritag and cultur a workplac that is welcom to go into thi sort of breakout is refresh and make space for us howev have to code switch could also mean a workplac that is not conduc and welcom of other cultur final in your opinion what long term strategi can creat last chang in the workplac and ensur support equal and inclus for apida individu prior to a career in financi aid i did a lot of research relat to the post 9 11 immigr of the south asian diaspora thi background made me heavili reli on grassroot organ hire the peopl that want to innov hire the changemak hire the button pusher reduc relianc on white as chang thi will becom natur for the organ and becom organiz chang chang come from us on the ground a huge thank you to arbeena thapa for share her experi and be vulner with us your word were inspir and the opportun to understand your perspect more ha been valuabl we hope we can becom better support for the apida commun as we learn and grow on our journey of cultiv inclus growth'"
      ]
     },
     "execution_count": 14,
     "metadata": {},
     "output_type": "execute_result"
    }
   ],
   "source": [
    "# nltk.porter.PorterStemmer() or nltk.PorterStemmer() # ' '.join([.stem(word) for word in words.split()])\n",
    "p_stem = nltk.PorterStemmer()\n",
    "words_stem = ' '.join([p_stem.stem(word) for word in words_tok.split()])\n",
    "words_stem"
   ]
  },
  {
   "cell_type": "code",
   "execution_count": 15,
   "metadata": {},
   "outputs": [],
   "source": [
    "def stem(words_tok):\n",
    "    # make stemmer\n",
    "    p_stem = nltk.PorterStemmer()\n",
    "    # stem them\n",
    "    return ' '.join([p_stem.stem(word) for word in words_tok.split()])"
   ]
  },
  {
   "cell_type": "code",
   "execution_count": 16,
   "metadata": {},
   "outputs": [
    {
     "data": {
      "text/plain": [
       "'may is tradit known as asian american and pacif island aapi heritag month thi month we celebr the histori and contribut made possibl by our aapi friend famili and commun we also examin our level of support and seek opportun to better understand the aapi commun in an effort to address real concern and experi we sat down with arbeena thapa one of codeup financi aid and enrol manag arbeena identifi as nepali american and desi arbeena parent immigr to texa in 1988 for better employ and educ opportun arbeena older sister wa five when they made the move to the us arbeena wa born later becom the first in her famili to be a us citizen at codeup we take our effort at inclus veri serious after speak with arbeena we were taught that the term aapi exclud desi american individu henc we will now use the term asian pacif island desi american apida here is how the rest of our convers with arbeena went how do you celebr or connect with your heritag and cultur tradit i celebr nepal version of christma or dashain thi is a nine day celebr also known as dussehra i grew up as hindu and i identifi as hindu thi is a veri larg part of my heritag other way i connect with my cultur includ share food momo are south asian dumpl and theyr my favorit to make and share on my asian american side i am an advoc of immigr justic and erasur within apida social or polit movement i particip in event to embrac my ident such as immigr justic advocaci becaus i come from a mix statu famili ive alway been in a commun with undocu asian immigr what are some of the challeng you have face as an apida individu person or profession i often struggl with be gender as compliant or a pushov profession i am often stereotyp as meek so ive been overlook for leadership role we are seen as perpetu foreign peopl tend to other us in that way yet put us on a pedest for what a model minor look like thi ha made me hesit to share my heritag in the past becaus these assumpt get map onto me can you describ some common barrier of entri that apida individu specif women may face when tri to enter or advanc in the workplac be overlook for leadership in the past i have not been view as a leader peopl sometim have preconceiv stereotyp of asian women not be abl to be bold or be vocal can be mistaken for be too emot how do you believ microaggress impact apida individu in the workplac can you provid exampl of such microaggress erasur is big to me onli say merri christma isnt inclus to other religion peopl are often resist to say happi holiday but say merri christma exclud and doe not appreci my heritag often microaggress are not micro at all they typic are not aggress racial violenc but the term micro minim impact some that ive heard are what kind of asian are you or where are you from thi automat make me the other and not seen as american even within the apida commun south asian are overlook as asian how import is represent specif apida represent in organiz leadership posit i want to say that it is import to have someon who look like you in leadership role and it is but those leader may not share the same belief as you certain privileg such as wealth resourc or lack of interact with lower socioeconom statu asian american may caus a differ in commun polit i do not think the bamboo ceil is accept but the compani you work for play a big part in your polit and belief align how do you feel about code switch and have you ever felt it necessari to code switch i like share south asian term or connect with other that have similar heritag and cultur a workplac that is welcom to go into thi sort of breakout is refresh and make space for us howev have to code switch could also mean a workplac that is not conduc and welcom of other cultur final in your opinion what long term strategi can creat last chang in the workplac and ensur support equal and inclus for apida individu prior to a career in financi aid i did a lot of research relat to the post 9 11 immigr of the south asian diaspora thi background made me heavili reli on grassroot organ hire the peopl that want to innov hire the changemak hire the button pusher reduc relianc on white as chang thi will becom natur for the organ and becom organiz chang chang come from us on the ground a huge thank you to arbeena thapa for share her experi and be vulner with us your word were inspir and the opportun to understand your perspect more ha been valuabl we hope we can becom better support for the apida commun as we learn and grow on our journey of cultiv inclus growth'"
      ]
     },
     "execution_count": 16,
     "metadata": {},
     "output_type": "execute_result"
    }
   ],
   "source": [
    "words_stem = stem(words_tok)\n",
    "words_stem"
   ]
  },
  {
   "attachments": {},
   "cell_type": "markdown",
   "metadata": {},
   "source": [
    "## 4. Define a function named lemmatize. It should accept some text and return the text after applying lemmatization to each word.\n",
    "\n"
   ]
  },
  {
   "cell_type": "code",
   "execution_count": 17,
   "metadata": {},
   "outputs": [
    {
     "data": {
      "text/plain": [
       "'may is traditionally known a asian american and pacific islander aapi heritage month this month we celebrate the history and contribution made possible by our aapi friend family and community we also examine our level of support and seek opportunity to better understand the aapi community in an effort to address real concern and experience we sat down with arbeena thapa one of codeups financial aid and enrollment manager arbeena identifies a nepali american and desi arbeenas parent immigrated to texas in 1988 for better employment and educational opportunity arbeenas older sister wa five when they made the move to the u arbeena wa born later becoming the first in her family to be a u citizen at codeup we take our effort at inclusivity very seriously after speaking with arbeena we were taught that the term aapi excludes desi american individual hence we will now use the term asian pacific islander desi american apida here is how the rest of our conversation with arbeena went how do you celebrate or connect with your heritage and cultural tradition i celebrate nepal version of christmas or dashain this is a nine day celebration also known a dussehra i grew up a hindu and i identify a hindu this is a very large part of my heritage other way i connect with my culture include sharing food momos are south asian dumpling and theyre my favorite to make and share on my asian american side i am an advocate of immigrant justice and erasure within apida social or political movement i participate in event to embrace my identity such a immigrant justice advocacy because i come from a mixed status family ive always been in a community with undocumented asian immigrant what are some of the challenge you have faced a an apida individual personally or professionally i often struggle with being gendered a compliant or a pushover professionally i am often stereotyped a meek so ive been overlooked for leadership role we are seen a perpetually foreign people tend to other u in that way yet put u on a pedestal for what a model minority look like this ha made me hesitant to share my heritage in the past because these assumption get mapped onto me can you describe some common barrier of entry that apida individual specifically woman may face when trying to enter or advance in the workplace being overlooked for leadership in the past i have not been viewed a a leader people sometimes have preconceived stereotype of asian woman not being able to be bold or being vocal can be mistaken for being too emotional how do you believe microaggressions impact apida individual in the workplace can you provide example of such microaggressions erasure is big to me only saying merry christmas isnt inclusive to other religion people are often resistant to saying happy holiday but saying merry christmas excludes and doe not appreciate my heritage often microaggressions are not micro at all they typically are not aggressive racialized violence but the term micro minimizes impact some that ive heard are what kind of asian are you or where are you from this automatically make me the other and not seen a american even within the apida community south asian are overlooked a asian how important is representation specifically apida representation in organizational leadership position i want to say that it is important to have someone who look like you in leadership role and it is but those leader may not share the same belief a you certain privilege such a wealth resource or lack of interaction with lower socioeconomic status asian american may cause a difference in community politics i do not think the bamboo ceiling is acceptable but the company you work for play a big part in your politics and belief alignment how do you feel about code switching and have you ever felt it necessary to code switch i like sharing south asian term or connecting with others that have similar heritage and culture a workplace that is welcoming to going into this sort of breakout is refreshing and make space for u however having to code switch could also mean a workplace that is not conducive and welcoming of other culture finally in your opinion what long term strategy can create lasting change in the workplace and ensure support equality and inclusion for apida individual prior to a career in financial aid i did a lot of research related to the post 9 11 immigration of the south asian diaspora this background made me heavily rely on grassroots organizing hire the people that want to innovate hire the changemakers hire the button pusher reduce reliance on whiteness a change this will become natural for the organization and become organizational change change come from u on the ground a huge thank you to arbeena thapa for sharing her experience and being vulnerable with u your word were inspiring and the opportunity to understand your perspective more ha been valuable we hope we can become better support for the apida community a we learn and grow on our journey of cultivating inclusive growth'"
      ]
     },
     "execution_count": 17,
     "metadata": {},
     "output_type": "execute_result"
    }
   ],
   "source": [
    "# nltk.stem.WordNetLemmatizer() # ' '.join([.lemmatize(word) for word in words.split()])\n",
    "lem = nltk.stem.WordNetLemmatizer()\n",
    "words_lem = ' '.join([lem.lemmatize(word) for word in words_tok.split()])\n",
    "words_lem"
   ]
  },
  {
   "cell_type": "code",
   "execution_count": 18,
   "metadata": {},
   "outputs": [],
   "source": [
    "def lemmatize(words_tok):\n",
    "    # make lemmatizer\n",
    "    lem = nltk.stem.WordNetLemmatizer()\n",
    "    # lemmatize them\n",
    "    return ' '.join([lem.lemmatize(word) for word in words_tok.split()])"
   ]
  },
  {
   "cell_type": "code",
   "execution_count": 19,
   "metadata": {},
   "outputs": [
    {
     "data": {
      "text/plain": [
       "'may is traditionally known a asian american and pacific islander aapi heritage month this month we celebrate the history and contribution made possible by our aapi friend family and community we also examine our level of support and seek opportunity to better understand the aapi community in an effort to address real concern and experience we sat down with arbeena thapa one of codeups financial aid and enrollment manager arbeena identifies a nepali american and desi arbeenas parent immigrated to texas in 1988 for better employment and educational opportunity arbeenas older sister wa five when they made the move to the u arbeena wa born later becoming the first in her family to be a u citizen at codeup we take our effort at inclusivity very seriously after speaking with arbeena we were taught that the term aapi excludes desi american individual hence we will now use the term asian pacific islander desi american apida here is how the rest of our conversation with arbeena went how do you celebrate or connect with your heritage and cultural tradition i celebrate nepal version of christmas or dashain this is a nine day celebration also known a dussehra i grew up a hindu and i identify a hindu this is a very large part of my heritage other way i connect with my culture include sharing food momos are south asian dumpling and theyre my favorite to make and share on my asian american side i am an advocate of immigrant justice and erasure within apida social or political movement i participate in event to embrace my identity such a immigrant justice advocacy because i come from a mixed status family ive always been in a community with undocumented asian immigrant what are some of the challenge you have faced a an apida individual personally or professionally i often struggle with being gendered a compliant or a pushover professionally i am often stereotyped a meek so ive been overlooked for leadership role we are seen a perpetually foreign people tend to other u in that way yet put u on a pedestal for what a model minority look like this ha made me hesitant to share my heritage in the past because these assumption get mapped onto me can you describe some common barrier of entry that apida individual specifically woman may face when trying to enter or advance in the workplace being overlooked for leadership in the past i have not been viewed a a leader people sometimes have preconceived stereotype of asian woman not being able to be bold or being vocal can be mistaken for being too emotional how do you believe microaggressions impact apida individual in the workplace can you provide example of such microaggressions erasure is big to me only saying merry christmas isnt inclusive to other religion people are often resistant to saying happy holiday but saying merry christmas excludes and doe not appreciate my heritage often microaggressions are not micro at all they typically are not aggressive racialized violence but the term micro minimizes impact some that ive heard are what kind of asian are you or where are you from this automatically make me the other and not seen a american even within the apida community south asian are overlooked a asian how important is representation specifically apida representation in organizational leadership position i want to say that it is important to have someone who look like you in leadership role and it is but those leader may not share the same belief a you certain privilege such a wealth resource or lack of interaction with lower socioeconomic status asian american may cause a difference in community politics i do not think the bamboo ceiling is acceptable but the company you work for play a big part in your politics and belief alignment how do you feel about code switching and have you ever felt it necessary to code switch i like sharing south asian term or connecting with others that have similar heritage and culture a workplace that is welcoming to going into this sort of breakout is refreshing and make space for u however having to code switch could also mean a workplace that is not conducive and welcoming of other culture finally in your opinion what long term strategy can create lasting change in the workplace and ensure support equality and inclusion for apida individual prior to a career in financial aid i did a lot of research related to the post 9 11 immigration of the south asian diaspora this background made me heavily rely on grassroots organizing hire the people that want to innovate hire the changemakers hire the button pusher reduce reliance on whiteness a change this will become natural for the organization and become organizational change change come from u on the ground a huge thank you to arbeena thapa for sharing her experience and being vulnerable with u your word were inspiring and the opportunity to understand your perspective more ha been valuable we hope we can become better support for the apida community a we learn and grow on our journey of cultivating inclusive growth'"
      ]
     },
     "execution_count": 19,
     "metadata": {},
     "output_type": "execute_result"
    }
   ],
   "source": [
    "words_lem = lemmatize(words_tok)\n",
    "words_lem"
   ]
  },
  {
   "attachments": {},
   "cell_type": "markdown",
   "metadata": {},
   "source": [
    "## 5. Define a function named remove_stopwords. It should accept some text and return the text after removing all the stopwords.\n",
    "\n",
    "This function should define two optional parameters, extra_words and exclude_words. These parameters should define any additional stop words to include, and any words that we don't want to remove.\n",
    "\n"
   ]
  },
  {
   "cell_type": "code",
   "execution_count": 23,
   "metadata": {},
   "outputs": [],
   "source": [
    "# ' '.join([word for word in words if word not in list(set(stopwords.words('english') - set(keep_list)))])\n",
    "\n",
    "def remove_stopwords(words,extra_words=None,exclude_words=None):\n",
    "    # make stopwords list\n",
    "    stop = stopwords.words('english')\n",
    "    # add more stopwords\n",
    "    if extra_words is not None:\n",
    "        stop = list(set(stop).union(set(extra_words)))\n",
    "    # remove stopwords\n",
    "    if exclude_words is not None:\n",
    "        stop = list(set(stop) - set(exclude_words))\n",
    "    # return filtered with no stopwords\n",
    "    return ' '.join([word for word in words.split() if word not in stop])"
   ]
  },
  {
   "cell_type": "code",
   "execution_count": 24,
   "metadata": {},
   "outputs": [
    {
     "data": {
      "text/plain": [
       "'may tradit known asian american pacif island aapi heritag month thi month celebr histori contribut made possibl aapi friend famili commun also examin level support seek opportun better understand aapi commun effort address real concern experi sat arbeena thapa one codeup financi aid enrol manag arbeena identifi nepali american desi arbeena parent immigr texa 1988 better employ educ opportun arbeena older sister wa five made move us arbeena wa born later becom first famili us citizen codeup take effort inclus veri serious speak arbeena taught term aapi exclud desi american individu henc use term asian pacif island desi american apida rest convers arbeena went celebr connect heritag cultur tradit celebr nepal version christma dashain thi nine day celebr also known dussehra grew hindu identifi hindu thi veri larg part heritag way connect cultur includ share food momo south asian dumpl theyr favorit make share asian american side advoc immigr justic erasur within apida social polit movement particip event embrac ident immigr justic advocaci becaus come mix statu famili ive alway commun undocu asian immigr challeng face apida individu person profession often struggl gender compliant pushov profession often stereotyp meek ive overlook leadership role seen perpetu foreign peopl tend us way yet put us pedest model minor look like thi ha made hesit share heritag past becaus assumpt get map onto describ common barrier entri apida individu specif women may face tri enter advanc workplac overlook leadership past view leader peopl sometim preconceiv stereotyp asian women abl bold vocal mistaken emot believ microaggress impact apida individu workplac provid exampl microaggress erasur big onli say merri christma isnt inclus religion peopl often resist say happi holiday say merri christma exclud doe appreci heritag often microaggress micro typic aggress racial violenc term micro minim impact ive heard kind asian thi automat make seen american even within apida commun south asian overlook asian import represent specif apida represent organiz leadership posit want say import someon look like leadership role leader may share belief certain privileg wealth resourc lack interact lower socioeconom statu asian american may caus differ commun polit think bamboo ceil accept compani work play big part polit belief align feel code switch ever felt necessari code switch like share south asian term connect similar heritag cultur workplac welcom go thi sort breakout refresh make space us howev code switch could also mean workplac conduc welcom cultur final opinion long term strategi creat last chang workplac ensur support equal inclus apida individu prior career financi aid lot research relat post 9 11 immigr south asian diaspora thi background made heavili reli grassroot organ hire peopl want innov hire changemak hire button pusher reduc relianc white chang thi becom natur organ becom organiz chang chang come us ground huge thank arbeena thapa share experi vulner us word inspir opportun understand perspect ha valuabl hope becom better support apida commun learn grow journey cultiv inclus growth'"
      ]
     },
     "execution_count": 24,
     "metadata": {},
     "output_type": "execute_result"
    }
   ],
   "source": [
    "remove_stopwords(words_stem)"
   ]
  },
  {
   "cell_type": "code",
   "execution_count": 25,
   "metadata": {},
   "outputs": [
    {
     "data": {
      "text/plain": [
       "'tradit known american pacif island aapi heritag month thi month celebr histori contribut made possibl aapi friend famili commun also examin level support seek opportun better understand aapi commun effort address real concern experi sat arbeena thapa one codeup financi aid enrol manag arbeena identifi nepali american desi arbeena parent immigr texa 1988 better employ educ opportun arbeena older sister wa five made move us arbeena wa born later becom first famili us citizen codeup take effort inclus veri serious speak arbeena taught term aapi exclud desi american individu henc use term pacif island desi american apida rest convers arbeena went celebr connect heritag cultur tradit celebr nepal version christma dashain thi nine day celebr also known dussehra grew hindu identifi hindu thi veri larg part heritag way connect cultur includ share food momo south dumpl theyr favorit make share american side advoc immigr justic erasur within apida social polit movement particip event embrac ident immigr justic advocaci becaus come mix statu famili ive alway commun undocu immigr challeng face apida individu person profession often struggl gender compliant pushov profession often stereotyp meek ive overlook leadership role seen perpetu foreign peopl tend us way yet put us pedest model minor look like thi ha made hesit share heritag past becaus assumpt get map onto describ common barrier entri apida individu specif women face tri enter advanc workplac overlook leadership past view leader peopl sometim preconceiv stereotyp women abl bold vocal mistaken emot believ microaggress impact apida individu workplac provid exampl microaggress erasur big onli say merri christma isnt inclus religion peopl often resist say happi holiday say merri christma exclud doe appreci heritag often microaggress micro typic aggress racial violenc term micro minim impact ive heard kind thi automat make seen american even within apida commun south overlook import represent specif apida represent organiz leadership posit want say import someon look like leadership role leader share belief certain privileg wealth resourc lack interact lower socioeconom statu american caus differ commun polit think bamboo ceil accept compani work play big part polit belief align feel code switch ever felt necessari code switch like share south term connect similar heritag cultur workplac welcom go thi sort breakout refresh make space us howev code switch could also mean workplac conduc welcom cultur final opinion long term strategi creat last chang workplac ensur support equal inclus apida individu prior career financi aid lot research relat post 9 11 immigr south diaspora thi background made heavili reli grassroot organ hire peopl want innov hire changemak hire button pusher reduc relianc white chang thi becom natur organ becom organiz chang chang come us ground huge thank arbeena thapa share experi vulner us word inspir opportun understand perspect ha valuabl hope becom better support apida commun learn grow journey cultiv inclus growth'"
      ]
     },
     "execution_count": 25,
     "metadata": {},
     "output_type": "execute_result"
    }
   ],
   "source": [
    "remove_stopwords(words_stem,['may','asian'])"
   ]
  },
  {
   "cell_type": "code",
   "execution_count": 26,
   "metadata": {},
   "outputs": [
    {
     "data": {
      "text/plain": [
       "'may tradit known asian american pacif island aapi heritag month thi month celebr histori contribut made possibl aapi friend famili commun also examin level support seek opportun better understand aapi commun effort address real concern experi sat arbeena thapa one codeup financi aid enrol manag arbeena identifi nepali american desi arbeena parent immigr texa 1988 better employ educ opportun arbeena older sister wa five made move us arbeena wa born later becom first famili a us citizen codeup take effort inclus veri serious speak arbeena taught term aapi exclud desi american individu henc use term asian pacif island desi american apida rest convers arbeena went celebr connect heritag cultur tradit celebr nepal version christma dashain thi a nine day celebr also known dussehra grew hindu identifi hindu thi a veri larg part heritag way connect cultur includ share food momo south asian dumpl theyr favorit make share asian american side advoc immigr justic erasur within apida social polit movement particip event embrac ident immigr justic advocaci becaus come a mix statu famili ive alway a commun undocu asian immigr challeng face apida individu person profession often struggl gender compliant a pushov profession often stereotyp meek ive overlook leadership role seen perpetu foreign peopl tend us way yet put us a pedest a model minor look like thi ha made hesit share heritag past becaus assumpt get map onto describ common barrier entri apida individu specif women may face tri enter advanc workplac overlook leadership past view a leader peopl sometim preconceiv stereotyp asian women abl bold vocal mistaken emot believ microaggress impact apida individu workplac provid exampl microaggress erasur big onli say merri christma isnt inclus religion peopl often resist say happi holiday say merri christma exclud doe appreci heritag often microaggress micro typic aggress racial violenc term micro minim impact ive heard kind asian thi automat make seen american even within apida commun south asian overlook asian import represent specif apida represent organiz leadership posit want say import someon look like leadership role leader may share belief certain privileg wealth resourc lack interact lower socioeconom statu asian american may caus a differ commun polit think bamboo ceil accept compani work play a big part polit belief align feel code switch ever felt necessari code switch like share south asian term connect similar heritag cultur a workplac welcom go thi sort breakout refresh make space us howev code switch could also mean a workplac conduc welcom cultur final opinion long term strategi creat last chang workplac ensur support equal inclus apida individu prior a career financi aid a lot research relat post 9 11 immigr south asian diaspora thi background made heavili reli grassroot organ hire peopl want innov hire changemak hire button pusher reduc relianc white chang thi becom natur organ becom organiz chang chang come us ground a huge thank arbeena thapa share experi vulner us word inspir opportun understand perspect ha valuabl hope becom better support apida commun learn grow journey cultiv inclus growth'"
      ]
     },
     "execution_count": 26,
     "metadata": {},
     "output_type": "execute_result"
    }
   ],
   "source": [
    "remove_stopwords(words_stem,None,['a','s'])"
   ]
  },
  {
   "attachments": {},
   "cell_type": "markdown",
   "metadata": {},
   "source": [
    "## 6. Use your data from the acquire to produce a dataframe of the news articles. Name the dataframe news_df.\n",
    "\n"
   ]
  },
  {
   "cell_type": "code",
   "execution_count": 27,
   "metadata": {},
   "outputs": [
    {
     "data": {
      "text/html": [
       "<div>\n",
       "<style scoped>\n",
       "    .dataframe tbody tr th:only-of-type {\n",
       "        vertical-align: middle;\n",
       "    }\n",
       "\n",
       "    .dataframe tbody tr th {\n",
       "        vertical-align: top;\n",
       "    }\n",
       "\n",
       "    .dataframe thead th {\n",
       "        text-align: right;\n",
       "    }\n",
       "</style>\n",
       "<table border=\"1\" class=\"dataframe\">\n",
       "  <thead>\n",
       "    <tr style=\"text-align: right;\">\n",
       "      <th></th>\n",
       "      <th>title</th>\n",
       "      <th>content</th>\n",
       "      <th>category</th>\n",
       "    </tr>\n",
       "  </thead>\n",
       "  <tbody>\n",
       "    <tr>\n",
       "      <th>0</th>\n",
       "      <td>Apple could force 111-year-old Swiss firm to change its apple logo</td>\n",
       "      <td>Fruit Union Suisse, a 111-year-old Swiss company, is worried it might have to change its logo because Apple is trying to gain intellectual property rights over depictions of apples. \"It's not like they're trying to protect their bitten apple...Their objective...is really to own rights to an actual apple, which...should be free for everyone to use,\" its director Jimmy Mariéthoz said.</td>\n",
       "      <td>Business</td>\n",
       "    </tr>\n",
       "    <tr>\n",
       "      <th>1</th>\n",
       "      <td>Nissan's ex-CEO Carlos Ghosn sues automaker for $1 bn over ouster</td>\n",
       "      <td>Nissan's former CEO Carlos Ghosn has filed a $1-billion lawsuit against the Japanese automaker and connected individuals for ousting him in 2018 and arranging his arrest over alleged financial misconduct. Ghosn filed the lawsuit in Lebanon, where he has lived since escaping from Japan in 2019 to flee trial. In 2020, Nissan sued Ghosn for $90 million in monetary damages.</td>\n",
       "      <td>Business</td>\n",
       "    </tr>\n",
       "    <tr>\n",
       "      <th>2</th>\n",
       "      <td>Financial influencer Ashesh &amp; wife found running ₹300 cr drug racket, flee with ₹170 cr</td>\n",
       "      <td>Financial influencer Ashesh Mehta and his wife Shivangi have been accused of running a ₹300 crore drug distribution network from their home. The couple is reported to have fled the country after transferring more than ₹170 crore earned through the sale of drugs into various bank accounts. A look-out circular has been issued against the couple by Madhya Pradesh police.</td>\n",
       "      <td>Business</td>\n",
       "    </tr>\n",
       "    <tr>\n",
       "      <th>3</th>\n",
       "      <td>Rahul Shivshankar quits as Times Now Editor-in-Chief</td>\n",
       "      <td>Rahul Shivshankar has quit as the Editor-in-Chief of Times Now news channel, Newslaundry reported. \"Rahul Shivshankar has decided to part ways with network...With immediate effect, the operations of the channel will be under the charge of Navika Kumar, Group Editor,\" an internal e-mail to employees reportedly said. Shivshankar joined the channel in 2016 after resigning as NewsX Editor-in-Chief.</td>\n",
       "      <td>Business</td>\n",
       "    </tr>\n",
       "    <tr>\n",
       "      <th>4</th>\n",
       "      <td>Air India signs agreement with Airbus, Boeing for 470 new aircraft</td>\n",
       "      <td>Air India on Tuesday finalised the agreements for the purchase of 470 aircraft from Boeing and Airbus at the 2023 Paris Air Show. \"This landmark step further positions Air India for long-term growth and success that, we have every hope, will come together to represent the best of modern aviation to the world,\" Air India Chairman N Chandrasekaran said.</td>\n",
       "      <td>Business</td>\n",
       "    </tr>\n",
       "    <tr>\n",
       "      <th>...</th>\n",
       "      <td>...</td>\n",
       "      <td>...</td>\n",
       "      <td>...</td>\n",
       "    </tr>\n",
       "    <tr>\n",
       "      <th>94</th>\n",
       "      <td>Aamir didn't like 'Aati Kya...' first shoot, scrapped it: Lalit</td>\n",
       "      <td>Music composer Lalit Pandit revealed that Aamir Khan didn't like the way 'Aati Kya Khandala' was shot initially. \"He scrapped the song's first shooting and they had to re-shoot the song and this time it was mind-blowing,\" he added. The song was a part of the 1998 film 'Ghulam', which was directed by Vikram Bhatt.\\n</td>\n",
       "      <td>Entertainment</td>\n",
       "    </tr>\n",
       "    <tr>\n",
       "      <th>95</th>\n",
       "      <td>I wish my late father was here so I could say 'I love you': Dwayne</td>\n",
       "      <td>Actor Dwayne Johnson said that he wishes his late father was around so that he could say \"I love you\" to him. \"I wish...I could say 'Happy Father's Day' just one more time. I would say this..if you guys have your old man around...try and reconcile, try and bring it back together,\" Johnson further said.</td>\n",
       "      <td>Entertainment</td>\n",
       "    </tr>\n",
       "    <tr>\n",
       "      <th>96</th>\n",
       "      <td>Use AK-47 then: Lahri on 'Adipurush' being called modern Ramayan</td>\n",
       "      <td>Actor Sunil Lahri reacted to claims that 'Adipurush' is a \"modern\" take on Ramayan. \"[If it's being called modern Ramayan] they should've used machine gun or AK-47 instead of bows and arrows...why were they walking in the forest on their foot, they could've used Mercedes or BMW,\" Lahri opined. \"I don't think 'Adipurush' would've earned over ₹300 crore,\" he added.</td>\n",
       "      <td>Entertainment</td>\n",
       "    </tr>\n",
       "    <tr>\n",
       "      <th>97</th>\n",
       "      <td>God has taken his time to make him perfect: Rashmika on Ranbir</td>\n",
       "      <td>Rashmika Mandanna, in her latest Instagram Story, shared her experience of working with Ranbir Kapoor in the upcoming film 'Animal'. Describing Ranbir as a brilliant actor and an amazing human being, she wrote, \"God has really taken his time to make him perfect.\" \"What a beautiful human he is...I only wish the best for him for life,\" wrote Rashmika.  \\n</td>\n",
       "      <td>Entertainment</td>\n",
       "    </tr>\n",
       "    <tr>\n",
       "      <th>98</th>\n",
       "      <td>Thought 'How'll I do it': Suhail on intimate scenes with Tamannaah</td>\n",
       "      <td>Actor Suhail Nayyar, while talking about doing intimate scenes with Tamannaah Bhatia in the show 'Jee Karda', said that he was very nervous before their first intimate scene. \"I was like, 'Oh my God!, how I am going to do this',\" he added. Suhail further said Tamannaah made him feel very comfortable.</td>\n",
       "      <td>Entertainment</td>\n",
       "    </tr>\n",
       "  </tbody>\n",
       "</table>\n",
       "<p>99 rows × 3 columns</p>\n",
       "</div>"
      ],
      "text/plain": [
       "                                                                                      title  \\\n",
       "0                        Apple could force 111-year-old Swiss firm to change its apple logo   \n",
       "1                         Nissan's ex-CEO Carlos Ghosn sues automaker for $1 bn over ouster   \n",
       "2   Financial influencer Ashesh & wife found running ₹300 cr drug racket, flee with ₹170 cr   \n",
       "3                                      Rahul Shivshankar quits as Times Now Editor-in-Chief   \n",
       "4                        Air India signs agreement with Airbus, Boeing for 470 new aircraft   \n",
       "..                                                                                      ...   \n",
       "94                         Aamir didn't like 'Aati Kya...' first shoot, scrapped it: Lalit    \n",
       "95                       I wish my late father was here so I could say 'I love you': Dwayne   \n",
       "96                         Use AK-47 then: Lahri on 'Adipurush' being called modern Ramayan   \n",
       "97                        God has taken his time to make him perfect: Rashmika on Ranbir      \n",
       "98                       Thought 'How'll I do it': Suhail on intimate scenes with Tamannaah   \n",
       "\n",
       "                                                                                                                                                                                                                                                                                                                                                                                                          content  \\\n",
       "0               Fruit Union Suisse, a 111-year-old Swiss company, is worried it might have to change its logo because Apple is trying to gain intellectual property rights over depictions of apples. \"It's not like they're trying to protect their bitten apple...Their objective...is really to own rights to an actual apple, which...should be free for everyone to use,\" its director Jimmy Mariéthoz said.   \n",
       "1                            Nissan's former CEO Carlos Ghosn has filed a $1-billion lawsuit against the Japanese automaker and connected individuals for ousting him in 2018 and arranging his arrest over alleged financial misconduct. Ghosn filed the lawsuit in Lebanon, where he has lived since escaping from Japan in 2019 to flee trial. In 2020, Nissan sued Ghosn for $90 million in monetary damages.   \n",
       "2                             Financial influencer Ashesh Mehta and his wife Shivangi have been accused of running a ₹300 crore drug distribution network from their home. The couple is reported to have fled the country after transferring more than ₹170 crore earned through the sale of drugs into various bank accounts. A look-out circular has been issued against the couple by Madhya Pradesh police.    \n",
       "3   Rahul Shivshankar has quit as the Editor-in-Chief of Times Now news channel, Newslaundry reported. \"Rahul Shivshankar has decided to part ways with network...With immediate effect, the operations of the channel will be under the charge of Navika Kumar, Group Editor,\" an internal e-mail to employees reportedly said. Shivshankar joined the channel in 2016 after resigning as NewsX Editor-in-Chief.   \n",
       "4                                               Air India on Tuesday finalised the agreements for the purchase of 470 aircraft from Boeing and Airbus at the 2023 Paris Air Show. \"This landmark step further positions Air India for long-term growth and success that, we have every hope, will come together to represent the best of modern aviation to the world,\" Air India Chairman N Chandrasekaran said.   \n",
       "..                                                                                                                                                                                                                                                                                                                                                                                                            ...   \n",
       "94                                                                                  Music composer Lalit Pandit revealed that Aamir Khan didn't like the way 'Aati Kya Khandala' was shot initially. \"He scrapped the song's first shooting and they had to re-shoot the song and this time it was mind-blowing,\" he added. The song was a part of the 1998 film 'Ghulam', which was directed by Vikram Bhatt.\\n    \n",
       "95                                                                                               Actor Dwayne Johnson said that he wishes his late father was around so that he could say \"I love you\" to him. \"I wish...I could say 'Happy Father's Day' just one more time. I would say this..if you guys have your old man around...try and reconcile, try and bring it back together,\" Johnson further said.    \n",
       "96                                 Actor Sunil Lahri reacted to claims that 'Adipurush' is a \"modern\" take on Ramayan. \"[If it's being called modern Ramayan] they should've used machine gun or AK-47 instead of bows and arrows...why were they walking in the forest on their foot, they could've used Mercedes or BMW,\" Lahri opined. \"I don't think 'Adipurush' would've earned over ₹300 crore,\" he added.    \n",
       "97                                           Rashmika Mandanna, in her latest Instagram Story, shared her experience of working with Ranbir Kapoor in the upcoming film 'Animal'. Describing Ranbir as a brilliant actor and an amazing human being, she wrote, \"God has really taken his time to make him perfect.\" \"What a beautiful human he is...I only wish the best for him for life,\" wrote Rashmika.  \\n    \n",
       "98                                                                                               Actor Suhail Nayyar, while talking about doing intimate scenes with Tamannaah Bhatia in the show 'Jee Karda', said that he was very nervous before their first intimate scene. \"I was like, 'Oh my God!, how I am going to do this',\" he added. Suhail further said Tamannaah made him feel very comfortable.      \n",
       "\n",
       "         category  \n",
       "0        Business  \n",
       "1        Business  \n",
       "2        Business  \n",
       "3        Business  \n",
       "4        Business  \n",
       "..            ...  \n",
       "94  Entertainment  \n",
       "95  Entertainment  \n",
       "96  Entertainment  \n",
       "97  Entertainment  \n",
       "98  Entertainment  \n",
       "\n",
       "[99 rows x 3 columns]"
      ]
     },
     "execution_count": 27,
     "metadata": {},
     "output_type": "execute_result"
    }
   ],
   "source": [
    "news_df = a.get_shorts()\n",
    "news_df"
   ]
  },
  {
   "attachments": {},
   "cell_type": "markdown",
   "metadata": {},
   "source": [
    "## 7. Make another dataframe for the Codeup blog posts. Name the dataframe codeup_df.\n",
    "\n"
   ]
  },
  {
   "cell_type": "code",
   "execution_count": 28,
   "metadata": {},
   "outputs": [
    {
     "data": {
      "text/html": [
       "<div>\n",
       "<style scoped>\n",
       "    .dataframe tbody tr th:only-of-type {\n",
       "        vertical-align: middle;\n",
       "    }\n",
       "\n",
       "    .dataframe tbody tr th {\n",
       "        vertical-align: top;\n",
       "    }\n",
       "\n",
       "    .dataframe thead th {\n",
       "        text-align: right;\n",
       "    }\n",
       "</style>\n",
       "<table border=\"1\" class=\"dataframe\">\n",
       "  <thead>\n",
       "    <tr style=\"text-align: right;\">\n",
       "      <th></th>\n",
       "      <th>title</th>\n",
       "      <th>content</th>\n",
       "    </tr>\n",
       "  </thead>\n",
       "  <tbody>\n",
       "    <tr>\n",
       "      <th>0</th>\n",
       "      <td>Spotlight on APIDA Voices: Celebrating Heritage and Inspiring Change ft. Arbeena Thapa</td>\n",
       "      <td>\\nMay is traditionally known as Asian American and Pacific Islander (AAPI) Heritage Month. This month we celebrate the history and contributions made possible by our AAPI friends, family, and community. We also examine our level of support and seek opportunities to better understand the AAPI community.\\n\\nIn an effort to address real concerns and experiences, we sat down with Arbeena Thapa, one of Codeup’s Financial Aid and Enrollment Managers.\\nArbeena identifies as Nepali American and Desi. Arbeena’s parents immigrated to Texas in 1988 for better employment and educational opportunities. Arbeena’s older sister was five when they made the move to the US. Arbeena was born later, becoming the first in her family to be a US citizen.\\nAt Codeup we take our efforts at inclusivity very seriously. After speaking with Arbeena, we were taught that the term AAPI excludes Desi-American individuals. Hence, we will now use the term Asian Pacific Islander Desi American (APIDA).\\nHere is how the rest of our conversation with Arbeena went!\\nHow do you celebrate or connect with your heritage and cultural traditions?\\n“I celebrate Nepal’s version of Christmas or Dashain. This is a nine-day celebration also known as Dussehra. I grew up as Hindu and I identify as Hindu, this is a very large part of my heritage. “\\n“Other ways I connect with my culture include sharing food! Momos are South Asian Dumplings and they’re my favorite to make and share.”\\n“On my Asian American side, I am an advocate of immigrant justice and erasure within APIDA social or political movements. I participate in events to embrace my identity such as immigrant justice advocacy because I come from a mixed-status family. I’ve always been in a community with undocumented Asian immigrants. .”\\nWhat are some of the challenges you have faced as an APIDA individual, personally or professionally?\\n“I often struggle with being gendered as compliant or a pushover. Professionally, I am often stereotyped as meek, so I’ve been overlooked for leadership roles. We are seen as perpetually foreign; people tend to other us in that way, yet put us on a pedestal for what a model minority looks like. This has made me hesitant to share my heritage in the past because these assumptions get mapped onto me. ”\\nCan you describe some common barriers of entry that APIDA individuals, specifically women may face when trying to enter or advance in the workplace?\\n“Being overlooked for leadership. In the past, I have not been viewed as a leader. People sometimes have preconceived stereotypes of Asian women not being able to be bold, or being vocal can be mistaken for being too emotional. “\\nHow do you believe microaggressions impact APIDA individuals in the workplace? Can you provide examples of such microaggressions?\\n“Erasure is big. To me, only saying ‘Merry Christmas’ isn’t inclusive to other religions. People are often resistant to saying ‘Happy Holidays,’ but saying Merry Christmas excludes, and does not appreciate my heritage. “\\n“Often microaggressions are not micro at all. They typically are not aggressive racialized violence, but the term ‘micro’ minimizes impact.”\\n“Some that I’ve heard are ‘What kind of Asian are you?’ or ‘Where are you from?’ This automatically makes me the ‘other’ and not seen as American. Even within the APIDA community, South Asians are overlooked as “Asian”.”\\nHow important is representation, specifically APIDA representation, in organizational leadership positions?\\n“I want to say that it is important to have someone who looks like you in leadership roles, and it is, but those leaders may not share the same beliefs as you. Certain privileges such as wealth, resources, or lack of interaction with lower-socioeconomic-status Asian Americans may cause a difference in community politics. I do not think the bamboo ceiling is acceptable, but the company you work for plays a big part in your politics and belief alignment.”\\nHow do you feel about code-switching, and have you ever felt it necessary to code-switch?\\n“I like sharing South Asian terms or connecting with others that have similar heritage and culture. A workplace that is welcoming to going into this sort of breakout is refreshing and makes space for us. However, having to code-switch could also mean a workplace that is not conducive and welcoming of other cultures. “\\nFinally, in your opinion, what long-term strategies can create lasting change in the workplace and ensure support, equality, and inclusion for APIDA individuals?\\n“Prior to a career in financial aid, I did a lot of research related to the post-9/11 immigration of the South Asian diaspora. This background made me heavily rely on grassroots organizing. Hire the people that want to innovate, hire the changemakers, hire the button-pushers. Reduce reliance on whiteness as change. This will become natural for the organization and become organizational change. Change comes from us on the ground.”\\nA huge thank you to Arbeena Thapa for sharing her experiences, and being vulnerable with us. Your words were inspiring and the opportunity to understand your perspective more has been valuable. We hope we can become better support for the APIDA community as we learn and grow on our journey of cultivating inclusive growth.\\n</td>\n",
       "    </tr>\n",
       "    <tr>\n",
       "      <th>1</th>\n",
       "      <td>Women in tech: Panelist Spotlight – Magdalena Rahn -</td>\n",
       "      <td>\\nWomen in tech: Panelist Spotlight – Magdalena Rahn\\nCodeup is hosting a Women in Tech Panel in honor of Women’s History Month on March 29th, 2023! To further celebrate, we’d like to spotlight each of our panelists leading up to the discussion to learn a bit about their respective experiences as women in the tech industry!\\n\\nMeet Magdalena!\\nMagdalena Rahn is a current Codeup student in a Data Science cohort in San Antonio, Texas. She has a professional background in cross-cultural communications, international business development, the wine industry and journalism. After serving in the US Navy, she decided to complement her professional skill set by attending the Data Science program at Codeup; she is set to graduate in March 2023. Magdalena is fluent in French, Bulgarian, Chinese-Mandarin, Spanish and Italian.\\nWe asked Magdalena how Codeup impacted her career, and she replied “Codeup has provided a solid foundation in analytical processes, programming and data science methods, and it’s been an encouragement to have such supportive instructors and wonderful classmates.”\\nDon’t forget to tune in on March 29th to sit in on an insightful conversation with Magdalena.\\n</td>\n",
       "    </tr>\n",
       "  </tbody>\n",
       "</table>\n",
       "</div>"
      ],
      "text/plain": [
       "                                                                                    title  \\\n",
       "0  Spotlight on APIDA Voices: Celebrating Heritage and Inspiring Change ft. Arbeena Thapa   \n",
       "1                                    Women in tech: Panelist Spotlight – Magdalena Rahn -   \n",
       "\n",
       "                                                                                                                                                                                                                                                                                                                                                                                                                                                                                                                                                                                                                                                                                                                                                                                                                                                                                                                                                                                                                                                                                                                                                                                                                                                                                                                                                                                                                                                                                                                                                                                                                                                                                                                                                                                                                                                                                                                                                                                                                                                                                                                                                                                                                                                                                                                                                                                                                                                                                                                                                                                                                                                                                                                                                                                                                                                                                                                                                                                                                                                                                                                                                                                                                                                                                                                                                                                                                                                                                                                                                                                                                                                                                                                                                                                                                                                                                                                                                                                                                                                                                                                                                                                                                                                                                                                                                                                                                                                                                                                                                                                                                                                                                                                                                                                                                                                                                                                                                                                                                                                                                                                                                                                                                                                                                                                                                                                                                                                                                            content  \n",
       "0  \\nMay is traditionally known as Asian American and Pacific Islander (AAPI) Heritage Month. This month we celebrate the history and contributions made possible by our AAPI friends, family, and community. We also examine our level of support and seek opportunities to better understand the AAPI community.\\n\\nIn an effort to address real concerns and experiences, we sat down with Arbeena Thapa, one of Codeup’s Financial Aid and Enrollment Managers.\\nArbeena identifies as Nepali American and Desi. Arbeena’s parents immigrated to Texas in 1988 for better employment and educational opportunities. Arbeena’s older sister was five when they made the move to the US. Arbeena was born later, becoming the first in her family to be a US citizen.\\nAt Codeup we take our efforts at inclusivity very seriously. After speaking with Arbeena, we were taught that the term AAPI excludes Desi-American individuals. Hence, we will now use the term Asian Pacific Islander Desi American (APIDA).\\nHere is how the rest of our conversation with Arbeena went!\\nHow do you celebrate or connect with your heritage and cultural traditions?\\n“I celebrate Nepal’s version of Christmas or Dashain. This is a nine-day celebration also known as Dussehra. I grew up as Hindu and I identify as Hindu, this is a very large part of my heritage. “\\n“Other ways I connect with my culture include sharing food! Momos are South Asian Dumplings and they’re my favorite to make and share.”\\n“On my Asian American side, I am an advocate of immigrant justice and erasure within APIDA social or political movements. I participate in events to embrace my identity such as immigrant justice advocacy because I come from a mixed-status family. I’ve always been in a community with undocumented Asian immigrants. .”\\nWhat are some of the challenges you have faced as an APIDA individual, personally or professionally?\\n“I often struggle with being gendered as compliant or a pushover. Professionally, I am often stereotyped as meek, so I’ve been overlooked for leadership roles. We are seen as perpetually foreign; people tend to other us in that way, yet put us on a pedestal for what a model minority looks like. This has made me hesitant to share my heritage in the past because these assumptions get mapped onto me. ”\\nCan you describe some common barriers of entry that APIDA individuals, specifically women may face when trying to enter or advance in the workplace?\\n“Being overlooked for leadership. In the past, I have not been viewed as a leader. People sometimes have preconceived stereotypes of Asian women not being able to be bold, or being vocal can be mistaken for being too emotional. “\\nHow do you believe microaggressions impact APIDA individuals in the workplace? Can you provide examples of such microaggressions?\\n“Erasure is big. To me, only saying ‘Merry Christmas’ isn’t inclusive to other religions. People are often resistant to saying ‘Happy Holidays,’ but saying Merry Christmas excludes, and does not appreciate my heritage. “\\n“Often microaggressions are not micro at all. They typically are not aggressive racialized violence, but the term ‘micro’ minimizes impact.”\\n“Some that I’ve heard are ‘What kind of Asian are you?’ or ‘Where are you from?’ This automatically makes me the ‘other’ and not seen as American. Even within the APIDA community, South Asians are overlooked as “Asian”.”\\nHow important is representation, specifically APIDA representation, in organizational leadership positions?\\n“I want to say that it is important to have someone who looks like you in leadership roles, and it is, but those leaders may not share the same beliefs as you. Certain privileges such as wealth, resources, or lack of interaction with lower-socioeconomic-status Asian Americans may cause a difference in community politics. I do not think the bamboo ceiling is acceptable, but the company you work for plays a big part in your politics and belief alignment.”\\nHow do you feel about code-switching, and have you ever felt it necessary to code-switch?\\n“I like sharing South Asian terms or connecting with others that have similar heritage and culture. A workplace that is welcoming to going into this sort of breakout is refreshing and makes space for us. However, having to code-switch could also mean a workplace that is not conducive and welcoming of other cultures. “\\nFinally, in your opinion, what long-term strategies can create lasting change in the workplace and ensure support, equality, and inclusion for APIDA individuals?\\n“Prior to a career in financial aid, I did a lot of research related to the post-9/11 immigration of the South Asian diaspora. This background made me heavily rely on grassroots organizing. Hire the people that want to innovate, hire the changemakers, hire the button-pushers. Reduce reliance on whiteness as change. This will become natural for the organization and become organizational change. Change comes from us on the ground.”\\nA huge thank you to Arbeena Thapa for sharing her experiences, and being vulnerable with us. Your words were inspiring and the opportunity to understand your perspective more has been valuable. We hope we can become better support for the APIDA community as we learn and grow on our journey of cultivating inclusive growth.\\n  \n",
       "1                                                                                                                                                                                                                                                                                                                                                                                                                                                                                                                                                                                                                                                                                                                                                                                                                                                                                                                                                                                                                                                                                                                                                                                                                                                                                                                                                                                                                                                                                                                                                                                                                                                                                                                                                                                                                                                                                                                                                                                                                                                                                                                                                                                                                                                                                                                                                                                                                                                                                                                                                                                                                                                                                                                                                                                                                                                                                                                                                                                                                                                                                                                                                                                                                                                                                                                                                                                                                                                                                                                                                                                                                                                                                                                                                                                                                                                                                                                                                                                                                                                                                                                                                                                                                                                               \\nWomen in tech: Panelist Spotlight – Magdalena Rahn\\nCodeup is hosting a Women in Tech Panel in honor of Women’s History Month on March 29th, 2023! To further celebrate, we’d like to spotlight each of our panelists leading up to the discussion to learn a bit about their respective experiences as women in the tech industry!\\n\\nMeet Magdalena!\\nMagdalena Rahn is a current Codeup student in a Data Science cohort in San Antonio, Texas. She has a professional background in cross-cultural communications, international business development, the wine industry and journalism. After serving in the US Navy, she decided to complement her professional skill set by attending the Data Science program at Codeup; she is set to graduate in March 2023. Magdalena is fluent in French, Bulgarian, Chinese-Mandarin, Spanish and Italian.\\nWe asked Magdalena how Codeup impacted her career, and she replied “Codeup has provided a solid foundation in analytical processes, programming and data science methods, and it’s been an encouragement to have such supportive instructors and wonderful classmates.”\\nDon’t forget to tune in on March 29th to sit in on an insightful conversation with Magdalena.\\n  "
      ]
     },
     "execution_count": 28,
     "metadata": {},
     "output_type": "execute_result"
    }
   ],
   "source": [
    "codeup_df = a.get_all_blog_articles()\n",
    "codeup_df.head(2)"
   ]
  },
  {
   "attachments": {},
   "cell_type": "markdown",
   "metadata": {},
   "source": [
    "## 8. For each dataframe, produce the following columns:\n",
    "\n",
    "- title to hold the title\n",
    "- original to hold the original article/post content\n",
    "- clean to hold the normalized and tokenized original with the stopwords removed.\n",
    "- stemmed to hold the stemmed version of the cleaned data.\n",
    "- lemmatized to hold the lemmatized version of the cleaned data.\n"
   ]
  },
  {
   "attachments": {},
   "cell_type": "markdown",
   "metadata": {},
   "source": [
    "### Shorts"
   ]
  },
  {
   "cell_type": "code",
   "execution_count": 29,
   "metadata": {},
   "outputs": [
    {
     "data": {
      "text/html": [
       "<div>\n",
       "<style scoped>\n",
       "    .dataframe tbody tr th:only-of-type {\n",
       "        vertical-align: middle;\n",
       "    }\n",
       "\n",
       "    .dataframe tbody tr th {\n",
       "        vertical-align: top;\n",
       "    }\n",
       "\n",
       "    .dataframe thead th {\n",
       "        text-align: right;\n",
       "    }\n",
       "</style>\n",
       "<table border=\"1\" class=\"dataframe\">\n",
       "  <thead>\n",
       "    <tr style=\"text-align: right;\">\n",
       "      <th></th>\n",
       "      <th>title</th>\n",
       "      <th>original</th>\n",
       "      <th>clean</th>\n",
       "      <th>stemmed</th>\n",
       "      <th>lemmatized</th>\n",
       "      <th>category</th>\n",
       "    </tr>\n",
       "  </thead>\n",
       "  <tbody>\n",
       "    <tr>\n",
       "      <th>0</th>\n",
       "      <td>Apple could force 111-year-old Swiss firm to change its apple logo</td>\n",
       "      <td>Fruit Union Suisse, a 111-year-old Swiss company, is worried it might have to change its logo because Apple is trying to gain intellectual property rights over depictions of apples. \"It's not like they're trying to protect their bitten apple...Their objective...is really to own rights to an actual apple, which...should be free for everyone to use,\" its director Jimmy Mariéthoz said.</td>\n",
       "      <td>fruit union suisse 111 year old swiss company worried might change logo apple trying gain intellectual property rights depictions apples ' like ' trying protect bitten apple objective really rights actual apple free everyone use director jimmy mariethoz said</td>\n",
       "      <td>fruit union suiss 111 year old swiss compani worri might chang logo appl tri gain intellectu properti right depict appl ' like ' tri protect bitten appl object realli right actual appl free everyon use director jimmi mariethoz said</td>\n",
       "      <td>fruit union suisse 111 year old swiss company worried might change logo apple trying gain intellectual property right depiction apple ' like ' trying protect bitten apple objective really right actual apple free everyone use director jimmy mariethoz said</td>\n",
       "      <td>Business</td>\n",
       "    </tr>\n",
       "    <tr>\n",
       "      <th>1</th>\n",
       "      <td>Nissan's ex-CEO Carlos Ghosn sues automaker for $1 bn over ouster</td>\n",
       "      <td>Nissan's former CEO Carlos Ghosn has filed a $1-billion lawsuit against the Japanese automaker and connected individuals for ousting him in 2018 and arranging his arrest over alleged financial misconduct. Ghosn filed the lawsuit in Lebanon, where he has lived since escaping from Japan in 2019 to flee trial. In 2020, Nissan sued Ghosn for $90 million in monetary damages.</td>\n",
       "      <td>nissan ' former ceo carlos ghosn filed 1 billion lawsuit japanese automaker connected individuals ousting 2018 arranging arrest alleged financial misconduct ghosn filed lawsuit lebanon lived since escaping japan 2019 flee trial 2020 nissan sued ghosn 90 million monetary damages</td>\n",
       "      <td>nissan ' former ceo carlo ghosn file 1 billion lawsuit japanes automak connect individu oust 2018 arrang arrest alleg financi misconduct ghosn file lawsuit lebanon live sinc escap japan 2019 flee trial 2020 nissan su ghosn 90 million monetari damag</td>\n",
       "      <td>nissan ' former ceo carlos ghosn filed 1 billion lawsuit japanese automaker connected individual ousting 2018 arranging arrest alleged financial misconduct ghosn filed lawsuit lebanon lived since escaping japan 2019 flee trial 2020 nissan sued ghosn 90 million monetary damage</td>\n",
       "      <td>Business</td>\n",
       "    </tr>\n",
       "  </tbody>\n",
       "</table>\n",
       "</div>"
      ],
      "text/plain": [
       "                                                                title  \\\n",
       "0  Apple could force 111-year-old Swiss firm to change its apple logo   \n",
       "1   Nissan's ex-CEO Carlos Ghosn sues automaker for $1 bn over ouster   \n",
       "\n",
       "                                                                                                                                                                                                                                                                                                                                                                                            original  \\\n",
       "0  Fruit Union Suisse, a 111-year-old Swiss company, is worried it might have to change its logo because Apple is trying to gain intellectual property rights over depictions of apples. \"It's not like they're trying to protect their bitten apple...Their objective...is really to own rights to an actual apple, which...should be free for everyone to use,\" its director Jimmy Mariéthoz said.   \n",
       "1               Nissan's former CEO Carlos Ghosn has filed a $1-billion lawsuit against the Japanese automaker and connected individuals for ousting him in 2018 and arranging his arrest over alleged financial misconduct. Ghosn filed the lawsuit in Lebanon, where he has lived since escaping from Japan in 2019 to flee trial. In 2020, Nissan sued Ghosn for $90 million in monetary damages.   \n",
       "\n",
       "                                                                                                                                                                                                                                                                                    clean  \\\n",
       "0                      fruit union suisse 111 year old swiss company worried might change logo apple trying gain intellectual property rights depictions apples ' like ' trying protect bitten apple objective really rights actual apple free everyone use director jimmy mariethoz said   \n",
       "1  nissan ' former ceo carlos ghosn filed 1 billion lawsuit japanese automaker connected individuals ousting 2018 arranging arrest alleged financial misconduct ghosn filed lawsuit lebanon lived since escaping japan 2019 flee trial 2020 nissan sued ghosn 90 million monetary damages   \n",
       "\n",
       "                                                                                                                                                                                                                                                    stemmed  \\\n",
       "0                   fruit union suiss 111 year old swiss compani worri might chang logo appl tri gain intellectu properti right depict appl ' like ' tri protect bitten appl object realli right actual appl free everyon use director jimmi mariethoz said   \n",
       "1  nissan ' former ceo carlo ghosn file 1 billion lawsuit japanes automak connect individu oust 2018 arrang arrest alleg financi misconduct ghosn file lawsuit lebanon live sinc escap japan 2019 flee trial 2020 nissan su ghosn 90 million monetari damag   \n",
       "\n",
       "                                                                                                                                                                                                                                                                             lemmatized  \\\n",
       "0                        fruit union suisse 111 year old swiss company worried might change logo apple trying gain intellectual property right depiction apple ' like ' trying protect bitten apple objective really right actual apple free everyone use director jimmy mariethoz said   \n",
       "1  nissan ' former ceo carlos ghosn filed 1 billion lawsuit japanese automaker connected individual ousting 2018 arranging arrest alleged financial misconduct ghosn filed lawsuit lebanon lived since escaping japan 2019 flee trial 2020 nissan sued ghosn 90 million monetary damage   \n",
       "\n",
       "   category  \n",
       "0  Business  \n",
       "1  Business  "
      ]
     },
     "execution_count": 29,
     "metadata": {},
     "output_type": "execute_result"
    }
   ],
   "source": [
    "# rename content to original\n",
    "news_df = news_df.rename(columns={'content':'original'})\n",
    "# Derive column 'clean' from column: 'original'\n",
    "news_df.insert(2, 'clean', news_df.apply(lambda row : remove_stopwords(tokenize(basic_clean(row.original))), axis=1))\n",
    "# Derive column 'stemmed' from column: 'original'\n",
    "news_df.insert(3, 'stemmed', news_df.apply(lambda row : stem(row.clean), axis=1))\n",
    "# Derive column 'lemmatized' from column: 'original'\n",
    "news_df.insert(4, 'lemmatized', news_df.apply(lambda row : lemmatize(row.clean), axis=1))\n",
    "news_df.head(2)"
   ]
  },
  {
   "attachments": {},
   "cell_type": "markdown",
   "metadata": {},
   "source": [
    "### Blogs"
   ]
  },
  {
   "cell_type": "code",
   "execution_count": 30,
   "metadata": {},
   "outputs": [
    {
     "data": {
      "text/html": [
       "<div>\n",
       "<style scoped>\n",
       "    .dataframe tbody tr th:only-of-type {\n",
       "        vertical-align: middle;\n",
       "    }\n",
       "\n",
       "    .dataframe tbody tr th {\n",
       "        vertical-align: top;\n",
       "    }\n",
       "\n",
       "    .dataframe thead th {\n",
       "        text-align: right;\n",
       "    }\n",
       "</style>\n",
       "<table border=\"1\" class=\"dataframe\">\n",
       "  <thead>\n",
       "    <tr style=\"text-align: right;\">\n",
       "      <th></th>\n",
       "      <th>title</th>\n",
       "      <th>original</th>\n",
       "      <th>clean</th>\n",
       "      <th>stemmed</th>\n",
       "      <th>lemmatized</th>\n",
       "    </tr>\n",
       "  </thead>\n",
       "  <tbody>\n",
       "    <tr>\n",
       "      <th>133</th>\n",
       "      <td>It's Official | Codeup is in Dallas! - Codeup</td>\n",
       "      <td>\\n\\n\\n\\n\\n\\nNow Enrolling for January 2020\\nAfter 6 years of placing tech talent in San Antonio, Codeup is now open in Dallas! Our inaugural class kicks off in January, and there are only 25 seats available. Read more below to learn about our program, Dallas campus, Dallas company partnerships, and more.\\n\\n\\n\\n\\n\\nFull Stack Web Development Program\\nCodeup Dallas is in full swing, and we are now accepting applications for our new campus. Kickstart your career as a developer in 20 weeks – no experience required! With a custom full stack curriculum, professional development services, and large employer network, Codeup will mold you into a well-rounded full stack web developer! We don’t just teach in-demand technical skills; we also teach you how to think, learn, and work like a developer. Our grads work at companies like USAA, Accenture, Cognizant, and Oracle, both in Dallas and across Texas.\\n\\n\\n\\n \\n\\n</td>\n",
       "      <td>enrolling january 2020 6 years placing tech talent san antonio codeup open dallas inaugural class kicks january 25 seats available read learn program dallas campus dallas company partnerships full stack web development program codeup dallas full swing accepting applications new campus kickstart career developer 20 weeks experience required custom full stack curriculum professional development services large employer network codeup mold well rounded full stack web developer dont teach demand technical skills also teach think learn work like developer grads work companies like usaa accenture cognizant oracle dallas across texas</td>\n",
       "      <td>enrol januari 2020 6 year place tech talent san antonio codeup open dalla inaugur class kick januari 25 seat avail read learn program dalla campu dalla compani partnership full stack web develop program codeup dalla full swing accept applic new campu kickstart career develop 20 week experi requir custom full stack curriculum profession develop servic larg employ network codeup mold well round full stack web develop dont teach demand technic skill also teach think learn work like develop grad work compani like usaa accentur cogniz oracl dalla across texa</td>\n",
       "      <td>enrolling january 2020 6 year placing tech talent san antonio codeup open dallas inaugural class kick january 25 seat available read learn program dallas campus dallas company partnership full stack web development program codeup dallas full swing accepting application new campus kickstart career developer 20 week experience required custom full stack curriculum professional development service large employer network codeup mold well rounded full stack web developer dont teach demand technical skill also teach think learn work like developer grad work company like usaa accenture cognizant oracle dallas across texas</td>\n",
       "    </tr>\n",
       "  </tbody>\n",
       "</table>\n",
       "</div>"
      ],
      "text/plain": [
       "                                             title  \\\n",
       "133  It's Official | Codeup is in Dallas! - Codeup   \n",
       "\n",
       "                                                                                                                                                                                                                                                                                                                                                                                                                                                                                                                                                                                                                                                                                                                                                                                                                                                                                                                                                  original  \\\n",
       "133  \\n\\n\\n\\n\\n\\nNow Enrolling for January 2020\\nAfter 6 years of placing tech talent in San Antonio, Codeup is now open in Dallas! Our inaugural class kicks off in January, and there are only 25 seats available. Read more below to learn about our program, Dallas campus, Dallas company partnerships, and more.\\n\\n\\n\\n\\n\\nFull Stack Web Development Program\\nCodeup Dallas is in full swing, and we are now accepting applications for our new campus. Kickstart your career as a developer in 20 weeks – no experience required! With a custom full stack curriculum, professional development services, and large employer network, Codeup will mold you into a well-rounded full stack web developer! We don’t just teach in-demand technical skills; we also teach you how to think, learn, and work like a developer. Our grads work at companies like USAA, Accenture, Cognizant, and Oracle, both in Dallas and across Texas.\\n\\n\\n\\n \\n\\n   \n",
       "\n",
       "                                                                                                                                                                                                                                                                                                                                                                                                                                                                                                                                                                                                                                                         clean  \\\n",
       "133  enrolling january 2020 6 years placing tech talent san antonio codeup open dallas inaugural class kicks january 25 seats available read learn program dallas campus dallas company partnerships full stack web development program codeup dallas full swing accepting applications new campus kickstart career developer 20 weeks experience required custom full stack curriculum professional development services large employer network codeup mold well rounded full stack web developer dont teach demand technical skills also teach think learn work like developer grads work companies like usaa accenture cognizant oracle dallas across texas   \n",
       "\n",
       "                                                                                                                                                                                                                                                                                                                                                                                                                                                                                                                                                                             stemmed  \\\n",
       "133  enrol januari 2020 6 year place tech talent san antonio codeup open dalla inaugur class kick januari 25 seat avail read learn program dalla campu dalla compani partnership full stack web develop program codeup dalla full swing accept applic new campu kickstart career develop 20 week experi requir custom full stack curriculum profession develop servic larg employ network codeup mold well round full stack web develop dont teach demand technic skill also teach think learn work like develop grad work compani like usaa accentur cogniz oracl dalla across texa   \n",
       "\n",
       "                                                                                                                                                                                                                                                                                                                                                                                                                                                                                                                                                                                                                                         lemmatized  \n",
       "133  enrolling january 2020 6 year placing tech talent san antonio codeup open dallas inaugural class kick january 25 seat available read learn program dallas campus dallas company partnership full stack web development program codeup dallas full swing accepting application new campus kickstart career developer 20 week experience required custom full stack curriculum professional development service large employer network codeup mold well rounded full stack web developer dont teach demand technical skill also teach think learn work like developer grad work company like usaa accenture cognizant oracle dallas across texas  "
      ]
     },
     "execution_count": 30,
     "metadata": {},
     "output_type": "execute_result"
    }
   ],
   "source": [
    "# rename content to original\n",
    "codeup_df = codeup_df.rename(columns={'content':'original'})\n",
    "# Derive column 'clean' from column: 'original'\n",
    "codeup_df.insert(2, 'clean', codeup_df.apply(lambda row : remove_stopwords(tokenize(basic_clean(row.original))), axis=1))\n",
    "# Derive column 'stemmed' from column: 'original'\n",
    "codeup_df.insert(3, 'stemmed', codeup_df.apply(lambda row : stem(row.clean), axis=1))\n",
    "# Derive column 'lemmatized' from column: 'original'\n",
    "codeup_df.insert(4, 'lemmatized', codeup_df.apply(lambda row : lemmatize(row.clean), axis=1))\n",
    "codeup_df.sample(1)"
   ]
  },
  {
   "attachments": {},
   "cell_type": "markdown",
   "metadata": {},
   "source": [
    "## 9. Ask yourself:\n"
   ]
  },
  {
   "attachments": {},
   "cell_type": "markdown",
   "metadata": {},
   "source": [
    "- If your corpus is 493KB, would you prefer to use stemmed or lemmatized text?"
   ]
  },
  {
   "cell_type": "code",
   "execution_count": 31,
   "metadata": {},
   "outputs": [],
   "source": [
    "# lem"
   ]
  },
  {
   "attachments": {},
   "cell_type": "markdown",
   "metadata": {},
   "source": [
    "- If your corpus is 25MB, would you prefer to use stemmed or lemmatized text?"
   ]
  },
  {
   "cell_type": "code",
   "execution_count": 32,
   "metadata": {},
   "outputs": [],
   "source": [
    "# either, prob stem if in hurry"
   ]
  },
  {
   "attachments": {},
   "cell_type": "markdown",
   "metadata": {},
   "source": [
    "- If your corpus is 200TB of text and you're charged by the megabyte for your hosted computational resources, would you prefer to use stemmed or lemmatized text?"
   ]
  },
  {
   "cell_type": "code",
   "execution_count": 33,
   "metadata": {},
   "outputs": [],
   "source": [
    "# stem, ain't nobody got time for 200TB lem"
   ]
  }
 ],
 "metadata": {
  "kernelspec": {
   "display_name": "base",
   "language": "python",
   "name": "python3"
  },
  "language_info": {
   "codemirror_mode": {
    "name": "ipython",
    "version": 3
   },
   "file_extension": ".py",
   "mimetype": "text/x-python",
   "name": "python",
   "nbconvert_exporter": "python",
   "pygments_lexer": "ipython3",
   "version": "3.9.16"
  },
  "orig_nbformat": 4
 },
 "nbformat": 4,
 "nbformat_minor": 2
}
